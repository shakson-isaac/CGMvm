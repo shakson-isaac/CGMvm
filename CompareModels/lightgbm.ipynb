{
 "cells": [
  {
   "cell_type": "markdown",
   "id": "5da01dea",
   "metadata": {},
   "source": [
    "## Run LightGBM model for comparison"
   ]
  },
  {
   "cell_type": "markdown",
   "id": "b387e392",
   "metadata": {},
   "source": [
    "### For running on a server: Need to pip install lightgbm"
   ]
  },
  {
   "cell_type": "code",
   "execution_count": 1,
   "id": "87739ebf",
   "metadata": {},
   "outputs": [],
   "source": [
    "%load_ext autoreload\n",
    "%autoreload 2"
   ]
  },
  {
   "cell_type": "code",
   "execution_count": 2,
   "id": "13ec9f5f",
   "metadata": {},
   "outputs": [],
   "source": [
    "# Set working directory to '/n/groups/patel/shakson/aiready/'\n",
    "import os\n",
    "os.chdir(\"/home/shaksonisaac/CGM/mambatf/\")"
   ]
  },
  {
   "cell_type": "code",
   "execution_count": 3,
   "id": "f2ff276d",
   "metadata": {},
   "outputs": [],
   "source": [
    "#LOAD Datasets\n",
    "import pandas as pd\n",
    "import io\n",
    "from google.cloud import storage\n",
    "\n",
    "_BUCKET_NAME = \"cgmproject2025\"\n",
    "\n",
    "# Download dataset from GCS\n",
    "client = storage.Client()\n",
    "bucket = client.bucket(_BUCKET_NAME)\n",
    "blob = bucket.blob('ai-ready/data/train_timeseries_meal.feather')\n",
    "data_bytes = blob.download_as_bytes()\n",
    "train = pd.read_feather(io.BytesIO(data_bytes))\n",
    "\n",
    "\n",
    "# Download test set:\n",
    "client = storage.Client()\n",
    "bucket = client.bucket(_BUCKET_NAME)\n",
    "blob = bucket.blob('ai-ready/data/test_timeseries_meal.feather')\n",
    "data_bytes = blob.download_as_bytes()\n",
    "test = pd.read_feather(io.BytesIO(data_bytes))"
   ]
  },
  {
   "cell_type": "code",
   "execution_count": 4,
   "id": "66ea85a5",
   "metadata": {},
   "outputs": [
    {
     "data": {
      "text/html": [
       "<div>\n",
       "<style scoped>\n",
       "    .dataframe tbody tr th:only-of-type {\n",
       "        vertical-align: middle;\n",
       "    }\n",
       "\n",
       "    .dataframe tbody tr th {\n",
       "        vertical-align: top;\n",
       "    }\n",
       "\n",
       "    .dataframe thead th {\n",
       "        text-align: right;\n",
       "    }\n",
       "</style>\n",
       "<table border=\"1\" class=\"dataframe\">\n",
       "  <thead>\n",
       "    <tr style=\"text-align: right;\">\n",
       "      <th></th>\n",
       "      <th>participant_id</th>\n",
       "      <th>ts</th>\n",
       "      <th>cgm_glucose</th>\n",
       "      <th>activity_steps</th>\n",
       "      <th>calories_value</th>\n",
       "      <th>heartrate</th>\n",
       "      <th>oxygen_saturation</th>\n",
       "      <th>respiration_rate</th>\n",
       "      <th>sleep_stage</th>\n",
       "      <th>stress_level</th>\n",
       "      <th>...</th>\n",
       "      <th>cgm_diff_lag_3</th>\n",
       "      <th>cgm_diff_lag_6</th>\n",
       "      <th>cgm_lagdiff_1_3</th>\n",
       "      <th>cgm_lagdiff_3_6</th>\n",
       "      <th>minute_of_day</th>\n",
       "      <th>tod_sin</th>\n",
       "      <th>tod_cos</th>\n",
       "      <th>cgm_rolling_mean</th>\n",
       "      <th>cgm_rolling_std</th>\n",
       "      <th>predmeal_flag</th>\n",
       "    </tr>\n",
       "  </thead>\n",
       "  <tbody>\n",
       "    <tr>\n",
       "      <th>11</th>\n",
       "      <td>1023</td>\n",
       "      <td>2023-08-30 18:45:00+00:00</td>\n",
       "      <td>101.0</td>\n",
       "      <td>0.0</td>\n",
       "      <td>4.0</td>\n",
       "      <td>81.0</td>\n",
       "      <td>93.0</td>\n",
       "      <td>10.946</td>\n",
       "      <td>light</td>\n",
       "      <td>43.2</td>\n",
       "      <td>...</td>\n",
       "      <td>-1.0</td>\n",
       "      <td>-20.0</td>\n",
       "      <td>0.0</td>\n",
       "      <td>-19.0</td>\n",
       "      <td>55</td>\n",
       "      <td>0.237686</td>\n",
       "      <td>0.971342</td>\n",
       "      <td>118.166667</td>\n",
       "      <td>16.336425</td>\n",
       "      <td>0.0</td>\n",
       "    </tr>\n",
       "    <tr>\n",
       "      <th>12</th>\n",
       "      <td>1023</td>\n",
       "      <td>2023-08-30 18:50:00+00:00</td>\n",
       "      <td>94.0</td>\n",
       "      <td>0.0</td>\n",
       "      <td>4.0</td>\n",
       "      <td>77.0</td>\n",
       "      <td>93.0</td>\n",
       "      <td>14.588</td>\n",
       "      <td>light</td>\n",
       "      <td>-1.0</td>\n",
       "      <td>...</td>\n",
       "      <td>-11.0</td>\n",
       "      <td>-18.0</td>\n",
       "      <td>-4.0</td>\n",
       "      <td>-7.0</td>\n",
       "      <td>60</td>\n",
       "      <td>0.258819</td>\n",
       "      <td>0.965926</td>\n",
       "      <td>114.916667</td>\n",
       "      <td>16.983727</td>\n",
       "      <td>0.0</td>\n",
       "    </tr>\n",
       "    <tr>\n",
       "      <th>13</th>\n",
       "      <td>1023</td>\n",
       "      <td>2023-08-30 18:55:00+00:00</td>\n",
       "      <td>93.0</td>\n",
       "      <td>0.0</td>\n",
       "      <td>4.0</td>\n",
       "      <td>77.0</td>\n",
       "      <td>93.0</td>\n",
       "      <td>15.262</td>\n",
       "      <td>light</td>\n",
       "      <td>6.8</td>\n",
       "      <td>...</td>\n",
       "      <td>-9.0</td>\n",
       "      <td>-6.0</td>\n",
       "      <td>-8.0</td>\n",
       "      <td>3.0</td>\n",
       "      <td>65</td>\n",
       "      <td>0.279829</td>\n",
       "      <td>0.960050</td>\n",
       "      <td>111.250000</td>\n",
       "      <td>16.526150</td>\n",
       "      <td>0.0</td>\n",
       "    </tr>\n",
       "    <tr>\n",
       "      <th>14</th>\n",
       "      <td>1023</td>\n",
       "      <td>2023-08-30 19:00:00+00:00</td>\n",
       "      <td>95.0</td>\n",
       "      <td>102.0</td>\n",
       "      <td>4.0</td>\n",
       "      <td>83.6</td>\n",
       "      <td>93.0</td>\n",
       "      <td>2.640</td>\n",
       "      <td>light</td>\n",
       "      <td>6.6</td>\n",
       "      <td>...</td>\n",
       "      <td>-6.0</td>\n",
       "      <td>-7.0</td>\n",
       "      <td>-8.0</td>\n",
       "      <td>-1.0</td>\n",
       "      <td>70</td>\n",
       "      <td>0.300706</td>\n",
       "      <td>0.953717</td>\n",
       "      <td>107.416667</td>\n",
       "      <td>14.164349</td>\n",
       "      <td>0.0</td>\n",
       "    </tr>\n",
       "    <tr>\n",
       "      <th>15</th>\n",
       "      <td>1023</td>\n",
       "      <td>2023-08-30 19:05:00+00:00</td>\n",
       "      <td>101.0</td>\n",
       "      <td>102.0</td>\n",
       "      <td>4.0</td>\n",
       "      <td>90.4</td>\n",
       "      <td>93.0</td>\n",
       "      <td>-1.000</td>\n",
       "      <td>light</td>\n",
       "      <td>-2.0</td>\n",
       "      <td>...</td>\n",
       "      <td>7.0</td>\n",
       "      <td>-4.0</td>\n",
       "      <td>1.0</td>\n",
       "      <td>-11.0</td>\n",
       "      <td>75</td>\n",
       "      <td>0.321439</td>\n",
       "      <td>0.946930</td>\n",
       "      <td>104.500000</td>\n",
       "      <td>10.991732</td>\n",
       "      <td>0.0</td>\n",
       "    </tr>\n",
       "  </tbody>\n",
       "</table>\n",
       "<p>5 rows × 28 columns</p>\n",
       "</div>"
      ],
      "text/plain": [
       "   participant_id                        ts  cgm_glucose  activity_steps  \\\n",
       "11           1023 2023-08-30 18:45:00+00:00        101.0             0.0   \n",
       "12           1023 2023-08-30 18:50:00+00:00         94.0             0.0   \n",
       "13           1023 2023-08-30 18:55:00+00:00         93.0             0.0   \n",
       "14           1023 2023-08-30 19:00:00+00:00         95.0           102.0   \n",
       "15           1023 2023-08-30 19:05:00+00:00        101.0           102.0   \n",
       "\n",
       "    calories_value  heartrate  oxygen_saturation  respiration_rate  \\\n",
       "11             4.0       81.0               93.0            10.946   \n",
       "12             4.0       77.0               93.0            14.588   \n",
       "13             4.0       77.0               93.0            15.262   \n",
       "14             4.0       83.6               93.0             2.640   \n",
       "15             4.0       90.4               93.0            -1.000   \n",
       "\n",
       "   sleep_stage  stress_level  ...  cgm_diff_lag_3 cgm_diff_lag_6  \\\n",
       "11       light          43.2  ...            -1.0          -20.0   \n",
       "12       light          -1.0  ...           -11.0          -18.0   \n",
       "13       light           6.8  ...            -9.0           -6.0   \n",
       "14       light           6.6  ...            -6.0           -7.0   \n",
       "15       light          -2.0  ...             7.0           -4.0   \n",
       "\n",
       "   cgm_lagdiff_1_3  cgm_lagdiff_3_6  minute_of_day   tod_sin   tod_cos  \\\n",
       "11             0.0            -19.0             55  0.237686  0.971342   \n",
       "12            -4.0             -7.0             60  0.258819  0.965926   \n",
       "13            -8.0              3.0             65  0.279829  0.960050   \n",
       "14            -8.0             -1.0             70  0.300706  0.953717   \n",
       "15             1.0            -11.0             75  0.321439  0.946930   \n",
       "\n",
       "    cgm_rolling_mean  cgm_rolling_std  predmeal_flag  \n",
       "11        118.166667        16.336425            0.0  \n",
       "12        114.916667        16.983727            0.0  \n",
       "13        111.250000        16.526150            0.0  \n",
       "14        107.416667        14.164349            0.0  \n",
       "15        104.500000        10.991732            0.0  \n",
       "\n",
       "[5 rows x 28 columns]"
      ]
     },
     "execution_count": 4,
     "metadata": {},
     "output_type": "execute_result"
    }
   ],
   "source": [
    "train.head()"
   ]
  },
  {
   "cell_type": "markdown",
   "id": "bcc0750c",
   "metadata": {},
   "source": [
    "## Quantile Loss Forecasting"
   ]
  },
  {
   "cell_type": "code",
   "execution_count": 5,
   "id": "81a7dcb6",
   "metadata": {},
   "outputs": [],
   "source": [
    "import io\n",
    "import pandas as pd\n",
    "import numpy as np\n",
    "import lightgbm as lgb\n",
    "from google.cloud import storage  # or however you’ve set up _gcs_client\n",
    "from sklearn.metrics import mean_pinball_loss\n",
    "\n",
    "# =============================\n",
    "# CONSTANTS\n",
    "# =============================\n",
    "LAGS = [1, 3, 6]\n",
    "ROLLING_WINDOW = 6   # window size for rolling stats\n",
    "HORIZON = 12         # forecast steps\n",
    "QUANTILES = [0.2, 0.5, 0.8]\n",
    "\n",
    "FEATURES = [\n",
    "    \"age\", \"participant_id\", \"clinical_site\", \"study_group\",\n",
    "    \"minute_of_day\", \"tod_sin\", \"tod_cos\", \"activity_steps\", \"calories_value\",\n",
    "    \"heartrate\", \"oxygen_saturation\", \"respiration_rate\", \"stress_level\", \"predmeal_flag\",\n",
    "    \"sleep_stage\",\n",
    "    *[f\"cgm_lag_{lag}\"      for lag in LAGS],\n",
    "    *[f\"cgm_diff_lag_{lag}\" for lag in LAGS],\n",
    "    \"cgm_lagdiff_1_3\", \"cgm_lagdiff_3_6\",\n",
    "    \"cgm_rolling_mean\", \"cgm_rolling_std\",\n",
    "]\n",
    "\n",
    "CATEGORICAL_COLS = [\"participant_id\", \"clinical_site\", \"study_group\", \"sleep_stage\"]\n",
    "\n",
    "# =============================\n",
    "# DATA LOADING\n",
    "# =============================\n",
    "def load_data_from_gcs(bucket_name: str, key: str) -> pd.DataFrame:\n",
    "    bucket = _gcs_client.bucket(bucket_name)\n",
    "    blob = bucket.blob(key)\n",
    "    data_bytes = blob.download_as_bytes()\n",
    "    return pd.read_feather(io.BytesIO(data_bytes))\n",
    "\n",
    "# =============================\n",
    "# FEATURE ENGINEERING\n",
    "# =============================\n",
    "def create_features(df: pd.DataFrame) -> pd.DataFrame:\n",
    "    df = df.sort_values([\"participant_id\", \"ds\"])\n",
    "    # lag / diff features\n",
    "    for lag in LAGS:\n",
    "        df[f\"cgm_lag_{lag}\"]      = df.groupby(\"participant_id\")[\"cgm_glucose\"].shift(lag)\n",
    "        df[f\"cgm_diff_lag_{lag}\"] = df.groupby(\"participant_id\")[\"cgm_glucose\"].diff(lag)\n",
    "    df[\"cgm_lagdiff_1_3\"] = df[\"cgm_lag_1\"] - df[\"cgm_lag_3\"]\n",
    "    df[\"cgm_lagdiff_3_6\"] = df[\"cgm_lag_3\"] - df[\"cgm_lag_6\"]\n",
    "    # rolling stats\n",
    "    df[\"cgm_rolling_mean\"] = (\n",
    "        df.groupby(\"participant_id\")[\"cgm_glucose\"]\n",
    "          .transform(lambda x: x.shift(1).rolling(ROLLING_WINDOW).mean())\n",
    "    )\n",
    "    df[\"cgm_rolling_std\"] = (\n",
    "        df.groupby(\"participant_id\")[\"cgm_glucose\"]\n",
    "          .transform(lambda x: x.shift(1).rolling(ROLLING_WINDOW).std())\n",
    "    )\n",
    "    return df\n",
    "\n",
    "# =============================\n",
    "# TRAIN/VALID SPLIT (group‐specific)\n",
    "# =============================\n",
    "def time_series_split(df: pd.DataFrame, group_col: str, time_col: str, horizon: int):\n",
    "    train_idx, val_idx = [], []\n",
    "    for _, grp in df.groupby(group_col):\n",
    "        grp = grp.sort_values(time_col)\n",
    "        cutoff_grp = grp[time_col].max() - horizon\n",
    "        train_grp = grp[grp[time_col] < cutoff_grp]\n",
    "        val_grp   = grp[grp[time_col] >=  cutoff_grp]\n",
    "        train_idx.extend(train_grp.index)\n",
    "        val_idx.extend(val_grp.index)\n",
    "    return train_idx, val_idx\n",
    "\n",
    "# =============================\n",
    "# DIRECT QUANTILE FORECASTING ON VALIDATION SPLIT\n",
    "# =============================\n",
    "def train_and_evaluate_quantiles_on_val(train: pd.DataFrame):\n",
    "    # 1) Feature‐engineer once\n",
    "    df = create_features(train.copy())\n",
    "    for c in CATEGORICAL_COLS:\n",
    "        if c in df.columns:\n",
    "            df[c] = df[c].astype(\"category\")\n",
    "\n",
    "    # 2) Carve out the LAST HORIZON points for each subject\n",
    "    train_idx, val_idx = time_series_split(df, \"participant_id\", \"ds\", HORIZON)\n",
    "    df_train = df.loc[train_idx]\n",
    "    df_val   = df.loc[val_idx]\n",
    "\n",
    "    # 3) Pick the FIRST row of the validation window as YOUR SINGLE ORIGIN\n",
    "    origin_idx = df_val.groupby(\"participant_id\").head(1).index\n",
    "    X_origin   = df.loc[origin_idx, FEATURES]\n",
    "\n",
    "    models    = {}\n",
    "    all_preds = []\n",
    "\n",
    "    # 4) Loop over each look-ahead\n",
    "    for h in range(1, HORIZON + 1):\n",
    "        # a) build horizon‐h target on the TRAIN+VAL frame\n",
    "        df_h = df.copy()\n",
    "        df_h[f\"target_h_{h}\"] = (\n",
    "            df_h.groupby(\"participant_id\")[\"cgm_glucose\"].shift(-h)\n",
    "        )\n",
    "        df_h = df_h.dropna(subset=FEATURES + [f\"target_h_{h}\"])\n",
    "\n",
    "        # b) split again for EARLY-STOPPING\n",
    "        tr_idx, va_idx = time_series_split(df_h, \"participant_id\", \"ds\", h) #Ensure no leaking into the validations set be models predicting < HORIZON (t+12)\n",
    "        X_tr  = df_h.loc[tr_idx, FEATURES]\n",
    "        y_tr  = df_h.loc[tr_idx, f\"target_h_{h}\"]\n",
    "        X_val = df_h.loc[va_idx, FEATURES]\n",
    "        y_val = df_h.loc[va_idx, f\"target_h_{h}\"]\n",
    "\n",
    "        # c) cast cats on splits\n",
    "        for X in (X_tr, X_val):\n",
    "            for c in CATEGORICAL_COLS:\n",
    "                if c in X:\n",
    "                    X[c] = X[c].astype(\"category\")\n",
    "\n",
    "        # d) train one quantile model per q\n",
    "        for q in QUANTILES:\n",
    "            params = {\n",
    "                \"objective\":     \"quantile\",\n",
    "                \"alpha\":         q,\n",
    "                \"metric\":        \"quantile\",\n",
    "                \"boosting_type\": \"gbdt\",\n",
    "                \"learning_rate\": 0.05,\n",
    "                \"num_leaves\":    31,\n",
    "                \"verbose\":      -1,\n",
    "            }\n",
    "            gbm = lgb.train(\n",
    "                params,\n",
    "                lgb.Dataset(X_tr,  label=y_tr,  categorical_feature=CATEGORICAL_COLS),\n",
    "                valid_sets=[lgb.Dataset(X_val, label=y_val, categorical_feature=CATEGORICAL_COLS)],\n",
    "                valid_names=[\"val\"],\n",
    "                callbacks=[lgb.early_stopping(50), lgb.log_evaluation(100)],\n",
    "            )\n",
    "            models[(h, q)] = gbm\n",
    "\n",
    "            # e) PREDICT only from our SINGLE origin\n",
    "            y_pred = gbm.predict(X_origin)\n",
    "\n",
    "            # f) GRAB the true cgm at t+h for the same origin\n",
    "            actual = (\n",
    "                df.groupby(\"participant_id\")[\"cgm_glucose\"]\n",
    "                  .shift(-h)\n",
    "                  .loc[origin_idx]\n",
    "                  .values\n",
    "            )\n",
    "\n",
    "            all_preds.append(pd.DataFrame({\n",
    "                \"participant_id\":   df.loc[origin_idx, \"participant_id\"].values,\n",
    "                \"ds\":               df.loc[origin_idx, \"ds\"].values,\n",
    "                \"forecast_horizon\": h,\n",
    "                \"quantile\":         q,\n",
    "                \"pred_cgm\":         y_pred,\n",
    "                \"actual_cgm\":       actual,\n",
    "            }))\n",
    "\n",
    "    forecast_df = pd.concat(all_preds, ignore_index=True)\n",
    "    return models, forecast_df\n",
    "\n",
    "# =============================\n",
    "# USAGE EXAMPLE\n",
    "# =============================\n",
    "# train_df = load_data_from_gcs(\"my-bucket\", \"train.feather\")\n",
    "# models, val_forecast_df = train_and_evaluate_quantiles_on_val(train_df)\n",
    "#\n",
    "# # Compute pinball loss by horizon & quantile\n",
    "# summary = (\n",
    "#     val_forecast_df\n",
    "#     .groupby([\"forecast_horizon\", \"quantile\"])\n",
    "#     .apply(lambda df: mean_pinball_loss(df.actual_cgm, df.pred_cgm, alpha=df.quantile.iloc[0]))\n",
    "#     .rename(\"pinball_loss\")\n",
    "# )\n",
    "# print(summary)\n"
   ]
  },
  {
   "cell_type": "code",
   "execution_count": 6,
   "id": "00d7de27",
   "metadata": {},
   "outputs": [
    {
     "name": "stderr",
     "output_type": "stream",
     "text": [
      "/tmp/ipykernel_1914/1911826636.py:65: FutureWarning: The default of observed=False is deprecated and will be changed to True in a future version of pandas. Pass observed=False to retain current behavior or observed=True to adopt the future default and silence this warning.\n",
      "  for _, grp in df.groupby(group_col):\n",
      "/tmp/ipykernel_1914/1911826636.py:90: FutureWarning: The default of observed=False is deprecated and will be changed to True in a future version of pandas. Pass observed=False to retain current behavior or observed=True to adopt the future default and silence this warning.\n",
      "  origin_idx = df_val.groupby(\"participant_id\").head(1).index\n",
      "/tmp/ipykernel_1914/1911826636.py:101: FutureWarning: The default of observed=False is deprecated and will be changed to True in a future version of pandas. Pass observed=False to retain current behavior or observed=True to adopt the future default and silence this warning.\n",
      "  df_h.groupby(\"participant_id\")[\"cgm_glucose\"].shift(-h)\n",
      "/tmp/ipykernel_1914/1911826636.py:65: FutureWarning: The default of observed=False is deprecated and will be changed to True in a future version of pandas. Pass observed=False to retain current behavior or observed=True to adopt the future default and silence this warning.\n",
      "  for _, grp in df.groupby(group_col):\n"
     ]
    },
    {
     "name": "stdout",
     "output_type": "stream",
     "text": [
      "Training until validation scores don't improve for 50 rounds\n",
      "[100]\tval's quantile: 2.02677\n",
      "Did not meet early stopping. Best iteration is:\n",
      "[100]\tval's quantile: 2.02677\n"
     ]
    },
    {
     "name": "stderr",
     "output_type": "stream",
     "text": [
      "/tmp/ipykernel_1914/1911826636.py:143: FutureWarning: The default of observed=False is deprecated and will be changed to True in a future version of pandas. Pass observed=False to retain current behavior or observed=True to adopt the future default and silence this warning.\n",
      "  df.groupby(\"participant_id\")[\"cgm_glucose\"]\n"
     ]
    },
    {
     "name": "stdout",
     "output_type": "stream",
     "text": [
      "Training until validation scores don't improve for 50 rounds\n",
      "[100]\tval's quantile: 1.52957\n",
      "Did not meet early stopping. Best iteration is:\n",
      "[100]\tval's quantile: 1.52957\n"
     ]
    },
    {
     "name": "stderr",
     "output_type": "stream",
     "text": [
      "/tmp/ipykernel_1914/1911826636.py:143: FutureWarning: The default of observed=False is deprecated and will be changed to True in a future version of pandas. Pass observed=False to retain current behavior or observed=True to adopt the future default and silence this warning.\n",
      "  df.groupby(\"participant_id\")[\"cgm_glucose\"]\n"
     ]
    },
    {
     "name": "stdout",
     "output_type": "stream",
     "text": [
      "Training until validation scores don't improve for 50 rounds\n",
      "[100]\tval's quantile: 1.36844\n",
      "Did not meet early stopping. Best iteration is:\n",
      "[100]\tval's quantile: 1.36844\n"
     ]
    },
    {
     "name": "stderr",
     "output_type": "stream",
     "text": [
      "/tmp/ipykernel_1914/1911826636.py:143: FutureWarning: The default of observed=False is deprecated and will be changed to True in a future version of pandas. Pass observed=False to retain current behavior or observed=True to adopt the future default and silence this warning.\n",
      "  df.groupby(\"participant_id\")[\"cgm_glucose\"]\n",
      "/tmp/ipykernel_1914/1911826636.py:101: FutureWarning: The default of observed=False is deprecated and will be changed to True in a future version of pandas. Pass observed=False to retain current behavior or observed=True to adopt the future default and silence this warning.\n",
      "  df_h.groupby(\"participant_id\")[\"cgm_glucose\"].shift(-h)\n",
      "/tmp/ipykernel_1914/1911826636.py:65: FutureWarning: The default of observed=False is deprecated and will be changed to True in a future version of pandas. Pass observed=False to retain current behavior or observed=True to adopt the future default and silence this warning.\n",
      "  for _, grp in df.groupby(group_col):\n"
     ]
    },
    {
     "name": "stdout",
     "output_type": "stream",
     "text": [
      "Training until validation scores don't improve for 50 rounds\n",
      "[100]\tval's quantile: 2.23368\n",
      "Did not meet early stopping. Best iteration is:\n",
      "[100]\tval's quantile: 2.23368\n"
     ]
    },
    {
     "name": "stderr",
     "output_type": "stream",
     "text": [
      "/tmp/ipykernel_1914/1911826636.py:143: FutureWarning: The default of observed=False is deprecated and will be changed to True in a future version of pandas. Pass observed=False to retain current behavior or observed=True to adopt the future default and silence this warning.\n",
      "  df.groupby(\"participant_id\")[\"cgm_glucose\"]\n"
     ]
    },
    {
     "name": "stdout",
     "output_type": "stream",
     "text": [
      "Training until validation scores don't improve for 50 rounds\n",
      "[100]\tval's quantile: 2.58111\n",
      "Did not meet early stopping. Best iteration is:\n",
      "[100]\tval's quantile: 2.58111\n"
     ]
    },
    {
     "name": "stderr",
     "output_type": "stream",
     "text": [
      "/tmp/ipykernel_1914/1911826636.py:143: FutureWarning: The default of observed=False is deprecated and will be changed to True in a future version of pandas. Pass observed=False to retain current behavior or observed=True to adopt the future default and silence this warning.\n",
      "  df.groupby(\"participant_id\")[\"cgm_glucose\"]\n"
     ]
    },
    {
     "name": "stdout",
     "output_type": "stream",
     "text": [
      "Training until validation scores don't improve for 50 rounds\n",
      "[100]\tval's quantile: 2.05846\n",
      "Did not meet early stopping. Best iteration is:\n",
      "[100]\tval's quantile: 2.05846\n"
     ]
    },
    {
     "name": "stderr",
     "output_type": "stream",
     "text": [
      "/tmp/ipykernel_1914/1911826636.py:143: FutureWarning: The default of observed=False is deprecated and will be changed to True in a future version of pandas. Pass observed=False to retain current behavior or observed=True to adopt the future default and silence this warning.\n",
      "  df.groupby(\"participant_id\")[\"cgm_glucose\"]\n",
      "/tmp/ipykernel_1914/1911826636.py:101: FutureWarning: The default of observed=False is deprecated and will be changed to True in a future version of pandas. Pass observed=False to retain current behavior or observed=True to adopt the future default and silence this warning.\n",
      "  df_h.groupby(\"participant_id\")[\"cgm_glucose\"].shift(-h)\n",
      "/tmp/ipykernel_1914/1911826636.py:65: FutureWarning: The default of observed=False is deprecated and will be changed to True in a future version of pandas. Pass observed=False to retain current behavior or observed=True to adopt the future default and silence this warning.\n",
      "  for _, grp in df.groupby(group_col):\n"
     ]
    },
    {
     "name": "stdout",
     "output_type": "stream",
     "text": [
      "Training until validation scores don't improve for 50 rounds\n",
      "[100]\tval's quantile: 2.62381\n",
      "Did not meet early stopping. Best iteration is:\n",
      "[100]\tval's quantile: 2.62381\n"
     ]
    },
    {
     "name": "stderr",
     "output_type": "stream",
     "text": [
      "/tmp/ipykernel_1914/1911826636.py:143: FutureWarning: The default of observed=False is deprecated and will be changed to True in a future version of pandas. Pass observed=False to retain current behavior or observed=True to adopt the future default and silence this warning.\n",
      "  df.groupby(\"participant_id\")[\"cgm_glucose\"]\n"
     ]
    },
    {
     "name": "stdout",
     "output_type": "stream",
     "text": [
      "Training until validation scores don't improve for 50 rounds\n",
      "[100]\tval's quantile: 3.49685\n",
      "Did not meet early stopping. Best iteration is:\n",
      "[100]\tval's quantile: 3.49685\n"
     ]
    },
    {
     "name": "stderr",
     "output_type": "stream",
     "text": [
      "/tmp/ipykernel_1914/1911826636.py:143: FutureWarning: The default of observed=False is deprecated and will be changed to True in a future version of pandas. Pass observed=False to retain current behavior or observed=True to adopt the future default and silence this warning.\n",
      "  df.groupby(\"participant_id\")[\"cgm_glucose\"]\n"
     ]
    },
    {
     "name": "stdout",
     "output_type": "stream",
     "text": [
      "Training until validation scores don't improve for 50 rounds\n",
      "[100]\tval's quantile: 2.7549\n",
      "Did not meet early stopping. Best iteration is:\n",
      "[100]\tval's quantile: 2.7549\n"
     ]
    },
    {
     "name": "stderr",
     "output_type": "stream",
     "text": [
      "/tmp/ipykernel_1914/1911826636.py:143: FutureWarning: The default of observed=False is deprecated and will be changed to True in a future version of pandas. Pass observed=False to retain current behavior or observed=True to adopt the future default and silence this warning.\n",
      "  df.groupby(\"participant_id\")[\"cgm_glucose\"]\n",
      "/tmp/ipykernel_1914/1911826636.py:101: FutureWarning: The default of observed=False is deprecated and will be changed to True in a future version of pandas. Pass observed=False to retain current behavior or observed=True to adopt the future default and silence this warning.\n",
      "  df_h.groupby(\"participant_id\")[\"cgm_glucose\"].shift(-h)\n",
      "/tmp/ipykernel_1914/1911826636.py:65: FutureWarning: The default of observed=False is deprecated and will be changed to True in a future version of pandas. Pass observed=False to retain current behavior or observed=True to adopt the future default and silence this warning.\n",
      "  for _, grp in df.groupby(group_col):\n"
     ]
    },
    {
     "name": "stdout",
     "output_type": "stream",
     "text": [
      "Training until validation scores don't improve for 50 rounds\n",
      "[100]\tval's quantile: 3.04787\n",
      "Did not meet early stopping. Best iteration is:\n",
      "[100]\tval's quantile: 3.04787\n"
     ]
    },
    {
     "name": "stderr",
     "output_type": "stream",
     "text": [
      "/tmp/ipykernel_1914/1911826636.py:143: FutureWarning: The default of observed=False is deprecated and will be changed to True in a future version of pandas. Pass observed=False to retain current behavior or observed=True to adopt the future default and silence this warning.\n",
      "  df.groupby(\"participant_id\")[\"cgm_glucose\"]\n"
     ]
    },
    {
     "name": "stdout",
     "output_type": "stream",
     "text": [
      "Training until validation scores don't improve for 50 rounds\n",
      "[100]\tval's quantile: 4.23248\n",
      "Did not meet early stopping. Best iteration is:\n",
      "[100]\tval's quantile: 4.23248\n"
     ]
    },
    {
     "name": "stderr",
     "output_type": "stream",
     "text": [
      "/tmp/ipykernel_1914/1911826636.py:143: FutureWarning: The default of observed=False is deprecated and will be changed to True in a future version of pandas. Pass observed=False to retain current behavior or observed=True to adopt the future default and silence this warning.\n",
      "  df.groupby(\"participant_id\")[\"cgm_glucose\"]\n"
     ]
    },
    {
     "name": "stdout",
     "output_type": "stream",
     "text": [
      "Training until validation scores don't improve for 50 rounds\n",
      "[100]\tval's quantile: 3.29069\n",
      "Did not meet early stopping. Best iteration is:\n",
      "[100]\tval's quantile: 3.29069\n"
     ]
    },
    {
     "name": "stderr",
     "output_type": "stream",
     "text": [
      "/tmp/ipykernel_1914/1911826636.py:143: FutureWarning: The default of observed=False is deprecated and will be changed to True in a future version of pandas. Pass observed=False to retain current behavior or observed=True to adopt the future default and silence this warning.\n",
      "  df.groupby(\"participant_id\")[\"cgm_glucose\"]\n",
      "/tmp/ipykernel_1914/1911826636.py:101: FutureWarning: The default of observed=False is deprecated and will be changed to True in a future version of pandas. Pass observed=False to retain current behavior or observed=True to adopt the future default and silence this warning.\n",
      "  df_h.groupby(\"participant_id\")[\"cgm_glucose\"].shift(-h)\n",
      "/tmp/ipykernel_1914/1911826636.py:65: FutureWarning: The default of observed=False is deprecated and will be changed to True in a future version of pandas. Pass observed=False to retain current behavior or observed=True to adopt the future default and silence this warning.\n",
      "  for _, grp in df.groupby(group_col):\n"
     ]
    },
    {
     "name": "stdout",
     "output_type": "stream",
     "text": [
      "Training until validation scores don't improve for 50 rounds\n",
      "[100]\tval's quantile: 3.35886\n",
      "Did not meet early stopping. Best iteration is:\n",
      "[100]\tval's quantile: 3.35886\n"
     ]
    },
    {
     "name": "stderr",
     "output_type": "stream",
     "text": [
      "/tmp/ipykernel_1914/1911826636.py:143: FutureWarning: The default of observed=False is deprecated and will be changed to True in a future version of pandas. Pass observed=False to retain current behavior or observed=True to adopt the future default and silence this warning.\n",
      "  df.groupby(\"participant_id\")[\"cgm_glucose\"]\n"
     ]
    },
    {
     "name": "stdout",
     "output_type": "stream",
     "text": [
      "Training until validation scores don't improve for 50 rounds\n",
      "[100]\tval's quantile: 4.78701\n",
      "Did not meet early stopping. Best iteration is:\n",
      "[100]\tval's quantile: 4.78701\n"
     ]
    },
    {
     "name": "stderr",
     "output_type": "stream",
     "text": [
      "/tmp/ipykernel_1914/1911826636.py:143: FutureWarning: The default of observed=False is deprecated and will be changed to True in a future version of pandas. Pass observed=False to retain current behavior or observed=True to adopt the future default and silence this warning.\n",
      "  df.groupby(\"participant_id\")[\"cgm_glucose\"]\n"
     ]
    },
    {
     "name": "stdout",
     "output_type": "stream",
     "text": [
      "Training until validation scores don't improve for 50 rounds\n",
      "[100]\tval's quantile: 3.65912\n",
      "Did not meet early stopping. Best iteration is:\n",
      "[100]\tval's quantile: 3.65912\n"
     ]
    },
    {
     "name": "stderr",
     "output_type": "stream",
     "text": [
      "/tmp/ipykernel_1914/1911826636.py:143: FutureWarning: The default of observed=False is deprecated and will be changed to True in a future version of pandas. Pass observed=False to retain current behavior or observed=True to adopt the future default and silence this warning.\n",
      "  df.groupby(\"participant_id\")[\"cgm_glucose\"]\n",
      "/tmp/ipykernel_1914/1911826636.py:101: FutureWarning: The default of observed=False is deprecated and will be changed to True in a future version of pandas. Pass observed=False to retain current behavior or observed=True to adopt the future default and silence this warning.\n",
      "  df_h.groupby(\"participant_id\")[\"cgm_glucose\"].shift(-h)\n",
      "/tmp/ipykernel_1914/1911826636.py:65: FutureWarning: The default of observed=False is deprecated and will be changed to True in a future version of pandas. Pass observed=False to retain current behavior or observed=True to adopt the future default and silence this warning.\n",
      "  for _, grp in df.groupby(group_col):\n"
     ]
    },
    {
     "name": "stdout",
     "output_type": "stream",
     "text": [
      "Training until validation scores don't improve for 50 rounds\n",
      "[100]\tval's quantile: 3.65164\n",
      "Did not meet early stopping. Best iteration is:\n",
      "[100]\tval's quantile: 3.65164\n"
     ]
    },
    {
     "name": "stderr",
     "output_type": "stream",
     "text": [
      "/tmp/ipykernel_1914/1911826636.py:143: FutureWarning: The default of observed=False is deprecated and will be changed to True in a future version of pandas. Pass observed=False to retain current behavior or observed=True to adopt the future default and silence this warning.\n",
      "  df.groupby(\"participant_id\")[\"cgm_glucose\"]\n"
     ]
    },
    {
     "name": "stdout",
     "output_type": "stream",
     "text": [
      "Training until validation scores don't improve for 50 rounds\n",
      "[100]\tval's quantile: 5.25328\n",
      "Did not meet early stopping. Best iteration is:\n",
      "[100]\tval's quantile: 5.25328\n"
     ]
    },
    {
     "name": "stderr",
     "output_type": "stream",
     "text": [
      "/tmp/ipykernel_1914/1911826636.py:143: FutureWarning: The default of observed=False is deprecated and will be changed to True in a future version of pandas. Pass observed=False to retain current behavior or observed=True to adopt the future default and silence this warning.\n",
      "  df.groupby(\"participant_id\")[\"cgm_glucose\"]\n"
     ]
    },
    {
     "name": "stdout",
     "output_type": "stream",
     "text": [
      "Training until validation scores don't improve for 50 rounds\n",
      "[100]\tval's quantile: 4.00546\n",
      "Did not meet early stopping. Best iteration is:\n",
      "[100]\tval's quantile: 4.00546\n"
     ]
    },
    {
     "name": "stderr",
     "output_type": "stream",
     "text": [
      "/tmp/ipykernel_1914/1911826636.py:143: FutureWarning: The default of observed=False is deprecated and will be changed to True in a future version of pandas. Pass observed=False to retain current behavior or observed=True to adopt the future default and silence this warning.\n",
      "  df.groupby(\"participant_id\")[\"cgm_glucose\"]\n",
      "/tmp/ipykernel_1914/1911826636.py:101: FutureWarning: The default of observed=False is deprecated and will be changed to True in a future version of pandas. Pass observed=False to retain current behavior or observed=True to adopt the future default and silence this warning.\n",
      "  df_h.groupby(\"participant_id\")[\"cgm_glucose\"].shift(-h)\n",
      "/tmp/ipykernel_1914/1911826636.py:65: FutureWarning: The default of observed=False is deprecated and will be changed to True in a future version of pandas. Pass observed=False to retain current behavior or observed=True to adopt the future default and silence this warning.\n",
      "  for _, grp in df.groupby(group_col):\n"
     ]
    },
    {
     "name": "stdout",
     "output_type": "stream",
     "text": [
      "Training until validation scores don't improve for 50 rounds\n",
      "[100]\tval's quantile: 3.83392\n",
      "Did not meet early stopping. Best iteration is:\n",
      "[100]\tval's quantile: 3.83392\n"
     ]
    },
    {
     "name": "stderr",
     "output_type": "stream",
     "text": [
      "/tmp/ipykernel_1914/1911826636.py:143: FutureWarning: The default of observed=False is deprecated and will be changed to True in a future version of pandas. Pass observed=False to retain current behavior or observed=True to adopt the future default and silence this warning.\n",
      "  df.groupby(\"participant_id\")[\"cgm_glucose\"]\n"
     ]
    },
    {
     "name": "stdout",
     "output_type": "stream",
     "text": [
      "Training until validation scores don't improve for 50 rounds\n",
      "[100]\tval's quantile: 5.54792\n",
      "Did not meet early stopping. Best iteration is:\n",
      "[100]\tval's quantile: 5.54792\n"
     ]
    },
    {
     "name": "stderr",
     "output_type": "stream",
     "text": [
      "/tmp/ipykernel_1914/1911826636.py:143: FutureWarning: The default of observed=False is deprecated and will be changed to True in a future version of pandas. Pass observed=False to retain current behavior or observed=True to adopt the future default and silence this warning.\n",
      "  df.groupby(\"participant_id\")[\"cgm_glucose\"]\n"
     ]
    },
    {
     "name": "stdout",
     "output_type": "stream",
     "text": [
      "Training until validation scores don't improve for 50 rounds\n",
      "[100]\tval's quantile: 4.22907\n",
      "Did not meet early stopping. Best iteration is:\n",
      "[100]\tval's quantile: 4.22907\n"
     ]
    },
    {
     "name": "stderr",
     "output_type": "stream",
     "text": [
      "/tmp/ipykernel_1914/1911826636.py:143: FutureWarning: The default of observed=False is deprecated and will be changed to True in a future version of pandas. Pass observed=False to retain current behavior or observed=True to adopt the future default and silence this warning.\n",
      "  df.groupby(\"participant_id\")[\"cgm_glucose\"]\n",
      "/tmp/ipykernel_1914/1911826636.py:101: FutureWarning: The default of observed=False is deprecated and will be changed to True in a future version of pandas. Pass observed=False to retain current behavior or observed=True to adopt the future default and silence this warning.\n",
      "  df_h.groupby(\"participant_id\")[\"cgm_glucose\"].shift(-h)\n",
      "/tmp/ipykernel_1914/1911826636.py:65: FutureWarning: The default of observed=False is deprecated and will be changed to True in a future version of pandas. Pass observed=False to retain current behavior or observed=True to adopt the future default and silence this warning.\n",
      "  for _, grp in df.groupby(group_col):\n"
     ]
    },
    {
     "name": "stdout",
     "output_type": "stream",
     "text": [
      "Training until validation scores don't improve for 50 rounds\n",
      "[100]\tval's quantile: 3.95717\n",
      "Did not meet early stopping. Best iteration is:\n",
      "[100]\tval's quantile: 3.95717\n"
     ]
    },
    {
     "name": "stderr",
     "output_type": "stream",
     "text": [
      "/tmp/ipykernel_1914/1911826636.py:143: FutureWarning: The default of observed=False is deprecated and will be changed to True in a future version of pandas. Pass observed=False to retain current behavior or observed=True to adopt the future default and silence this warning.\n",
      "  df.groupby(\"participant_id\")[\"cgm_glucose\"]\n"
     ]
    },
    {
     "name": "stdout",
     "output_type": "stream",
     "text": [
      "Training until validation scores don't improve for 50 rounds\n",
      "[100]\tval's quantile: 5.72566\n",
      "Did not meet early stopping. Best iteration is:\n",
      "[100]\tval's quantile: 5.72566\n"
     ]
    },
    {
     "name": "stderr",
     "output_type": "stream",
     "text": [
      "/tmp/ipykernel_1914/1911826636.py:143: FutureWarning: The default of observed=False is deprecated and will be changed to True in a future version of pandas. Pass observed=False to retain current behavior or observed=True to adopt the future default and silence this warning.\n",
      "  df.groupby(\"participant_id\")[\"cgm_glucose\"]\n"
     ]
    },
    {
     "name": "stdout",
     "output_type": "stream",
     "text": [
      "Training until validation scores don't improve for 50 rounds\n",
      "[100]\tval's quantile: 4.38497\n",
      "Did not meet early stopping. Best iteration is:\n",
      "[100]\tval's quantile: 4.38497\n"
     ]
    },
    {
     "name": "stderr",
     "output_type": "stream",
     "text": [
      "/tmp/ipykernel_1914/1911826636.py:143: FutureWarning: The default of observed=False is deprecated and will be changed to True in a future version of pandas. Pass observed=False to retain current behavior or observed=True to adopt the future default and silence this warning.\n",
      "  df.groupby(\"participant_id\")[\"cgm_glucose\"]\n",
      "/tmp/ipykernel_1914/1911826636.py:101: FutureWarning: The default of observed=False is deprecated and will be changed to True in a future version of pandas. Pass observed=False to retain current behavior or observed=True to adopt the future default and silence this warning.\n",
      "  df_h.groupby(\"participant_id\")[\"cgm_glucose\"].shift(-h)\n",
      "/tmp/ipykernel_1914/1911826636.py:65: FutureWarning: The default of observed=False is deprecated and will be changed to True in a future version of pandas. Pass observed=False to retain current behavior or observed=True to adopt the future default and silence this warning.\n",
      "  for _, grp in df.groupby(group_col):\n"
     ]
    },
    {
     "name": "stdout",
     "output_type": "stream",
     "text": [
      "Training until validation scores don't improve for 50 rounds\n",
      "[100]\tval's quantile: 4.12358\n",
      "Did not meet early stopping. Best iteration is:\n",
      "[100]\tval's quantile: 4.12358\n"
     ]
    },
    {
     "name": "stderr",
     "output_type": "stream",
     "text": [
      "/tmp/ipykernel_1914/1911826636.py:143: FutureWarning: The default of observed=False is deprecated and will be changed to True in a future version of pandas. Pass observed=False to retain current behavior or observed=True to adopt the future default and silence this warning.\n",
      "  df.groupby(\"participant_id\")[\"cgm_glucose\"]\n"
     ]
    },
    {
     "name": "stdout",
     "output_type": "stream",
     "text": [
      "Training until validation scores don't improve for 50 rounds\n",
      "[100]\tval's quantile: 6.02513\n",
      "Did not meet early stopping. Best iteration is:\n",
      "[100]\tval's quantile: 6.02513\n"
     ]
    },
    {
     "name": "stderr",
     "output_type": "stream",
     "text": [
      "/tmp/ipykernel_1914/1911826636.py:143: FutureWarning: The default of observed=False is deprecated and will be changed to True in a future version of pandas. Pass observed=False to retain current behavior or observed=True to adopt the future default and silence this warning.\n",
      "  df.groupby(\"participant_id\")[\"cgm_glucose\"]\n"
     ]
    },
    {
     "name": "stdout",
     "output_type": "stream",
     "text": [
      "Training until validation scores don't improve for 50 rounds\n",
      "[100]\tval's quantile: 4.67442\n",
      "Did not meet early stopping. Best iteration is:\n",
      "[100]\tval's quantile: 4.67442\n"
     ]
    },
    {
     "name": "stderr",
     "output_type": "stream",
     "text": [
      "/tmp/ipykernel_1914/1911826636.py:143: FutureWarning: The default of observed=False is deprecated and will be changed to True in a future version of pandas. Pass observed=False to retain current behavior or observed=True to adopt the future default and silence this warning.\n",
      "  df.groupby(\"participant_id\")[\"cgm_glucose\"]\n",
      "/tmp/ipykernel_1914/1911826636.py:101: FutureWarning: The default of observed=False is deprecated and will be changed to True in a future version of pandas. Pass observed=False to retain current behavior or observed=True to adopt the future default and silence this warning.\n",
      "  df_h.groupby(\"participant_id\")[\"cgm_glucose\"].shift(-h)\n",
      "/tmp/ipykernel_1914/1911826636.py:65: FutureWarning: The default of observed=False is deprecated and will be changed to True in a future version of pandas. Pass observed=False to retain current behavior or observed=True to adopt the future default and silence this warning.\n",
      "  for _, grp in df.groupby(group_col):\n"
     ]
    },
    {
     "name": "stdout",
     "output_type": "stream",
     "text": [
      "Training until validation scores don't improve for 50 rounds\n",
      "[100]\tval's quantile: 4.26066\n",
      "Did not meet early stopping. Best iteration is:\n",
      "[100]\tval's quantile: 4.26066\n"
     ]
    },
    {
     "name": "stderr",
     "output_type": "stream",
     "text": [
      "/tmp/ipykernel_1914/1911826636.py:143: FutureWarning: The default of observed=False is deprecated and will be changed to True in a future version of pandas. Pass observed=False to retain current behavior or observed=True to adopt the future default and silence this warning.\n",
      "  df.groupby(\"participant_id\")[\"cgm_glucose\"]\n"
     ]
    },
    {
     "name": "stdout",
     "output_type": "stream",
     "text": [
      "Training until validation scores don't improve for 50 rounds\n",
      "[100]\tval's quantile: 6.30782\n",
      "Did not meet early stopping. Best iteration is:\n",
      "[100]\tval's quantile: 6.30782\n"
     ]
    },
    {
     "name": "stderr",
     "output_type": "stream",
     "text": [
      "/tmp/ipykernel_1914/1911826636.py:143: FutureWarning: The default of observed=False is deprecated and will be changed to True in a future version of pandas. Pass observed=False to retain current behavior or observed=True to adopt the future default and silence this warning.\n",
      "  df.groupby(\"participant_id\")[\"cgm_glucose\"]\n"
     ]
    },
    {
     "name": "stdout",
     "output_type": "stream",
     "text": [
      "Training until validation scores don't improve for 50 rounds\n",
      "[100]\tval's quantile: 4.96463\n",
      "Did not meet early stopping. Best iteration is:\n",
      "[100]\tval's quantile: 4.96463\n"
     ]
    },
    {
     "name": "stderr",
     "output_type": "stream",
     "text": [
      "/tmp/ipykernel_1914/1911826636.py:143: FutureWarning: The default of observed=False is deprecated and will be changed to True in a future version of pandas. Pass observed=False to retain current behavior or observed=True to adopt the future default and silence this warning.\n",
      "  df.groupby(\"participant_id\")[\"cgm_glucose\"]\n",
      "/tmp/ipykernel_1914/1911826636.py:101: FutureWarning: The default of observed=False is deprecated and will be changed to True in a future version of pandas. Pass observed=False to retain current behavior or observed=True to adopt the future default and silence this warning.\n",
      "  df_h.groupby(\"participant_id\")[\"cgm_glucose\"].shift(-h)\n",
      "/tmp/ipykernel_1914/1911826636.py:65: FutureWarning: The default of observed=False is deprecated and will be changed to True in a future version of pandas. Pass observed=False to retain current behavior or observed=True to adopt the future default and silence this warning.\n",
      "  for _, grp in df.groupby(group_col):\n"
     ]
    },
    {
     "name": "stdout",
     "output_type": "stream",
     "text": [
      "Training until validation scores don't improve for 50 rounds\n",
      "[100]\tval's quantile: 4.38254\n",
      "Did not meet early stopping. Best iteration is:\n",
      "[100]\tval's quantile: 4.38254\n"
     ]
    },
    {
     "name": "stderr",
     "output_type": "stream",
     "text": [
      "/tmp/ipykernel_1914/1911826636.py:143: FutureWarning: The default of observed=False is deprecated and will be changed to True in a future version of pandas. Pass observed=False to retain current behavior or observed=True to adopt the future default and silence this warning.\n",
      "  df.groupby(\"participant_id\")[\"cgm_glucose\"]\n"
     ]
    },
    {
     "name": "stdout",
     "output_type": "stream",
     "text": [
      "Training until validation scores don't improve for 50 rounds\n",
      "[100]\tval's quantile: 6.53207\n",
      "Did not meet early stopping. Best iteration is:\n",
      "[100]\tval's quantile: 6.53207\n"
     ]
    },
    {
     "name": "stderr",
     "output_type": "stream",
     "text": [
      "/tmp/ipykernel_1914/1911826636.py:143: FutureWarning: The default of observed=False is deprecated and will be changed to True in a future version of pandas. Pass observed=False to retain current behavior or observed=True to adopt the future default and silence this warning.\n",
      "  df.groupby(\"participant_id\")[\"cgm_glucose\"]\n"
     ]
    },
    {
     "name": "stdout",
     "output_type": "stream",
     "text": [
      "Training until validation scores don't improve for 50 rounds\n",
      "[100]\tval's quantile: 5.18957\n",
      "Did not meet early stopping. Best iteration is:\n",
      "[100]\tval's quantile: 5.18957\n"
     ]
    },
    {
     "name": "stderr",
     "output_type": "stream",
     "text": [
      "/tmp/ipykernel_1914/1911826636.py:143: FutureWarning: The default of observed=False is deprecated and will be changed to True in a future version of pandas. Pass observed=False to retain current behavior or observed=True to adopt the future default and silence this warning.\n",
      "  df.groupby(\"participant_id\")[\"cgm_glucose\"]\n",
      "/tmp/ipykernel_1914/1911826636.py:101: FutureWarning: The default of observed=False is deprecated and will be changed to True in a future version of pandas. Pass observed=False to retain current behavior or observed=True to adopt the future default and silence this warning.\n",
      "  df_h.groupby(\"participant_id\")[\"cgm_glucose\"].shift(-h)\n",
      "/tmp/ipykernel_1914/1911826636.py:65: FutureWarning: The default of observed=False is deprecated and will be changed to True in a future version of pandas. Pass observed=False to retain current behavior or observed=True to adopt the future default and silence this warning.\n",
      "  for _, grp in df.groupby(group_col):\n"
     ]
    },
    {
     "name": "stdout",
     "output_type": "stream",
     "text": [
      "Training until validation scores don't improve for 50 rounds\n",
      "[100]\tval's quantile: 4.46755\n",
      "Did not meet early stopping. Best iteration is:\n",
      "[100]\tval's quantile: 4.46755\n"
     ]
    },
    {
     "name": "stderr",
     "output_type": "stream",
     "text": [
      "/tmp/ipykernel_1914/1911826636.py:143: FutureWarning: The default of observed=False is deprecated and will be changed to True in a future version of pandas. Pass observed=False to retain current behavior or observed=True to adopt the future default and silence this warning.\n",
      "  df.groupby(\"participant_id\")[\"cgm_glucose\"]\n"
     ]
    },
    {
     "name": "stdout",
     "output_type": "stream",
     "text": [
      "Training until validation scores don't improve for 50 rounds\n",
      "[100]\tval's quantile: 6.76229\n",
      "Did not meet early stopping. Best iteration is:\n",
      "[100]\tval's quantile: 6.76229\n"
     ]
    },
    {
     "name": "stderr",
     "output_type": "stream",
     "text": [
      "/tmp/ipykernel_1914/1911826636.py:143: FutureWarning: The default of observed=False is deprecated and will be changed to True in a future version of pandas. Pass observed=False to retain current behavior or observed=True to adopt the future default and silence this warning.\n",
      "  df.groupby(\"participant_id\")[\"cgm_glucose\"]\n"
     ]
    },
    {
     "name": "stdout",
     "output_type": "stream",
     "text": [
      "Training until validation scores don't improve for 50 rounds\n",
      "[100]\tval's quantile: 5.43953\n",
      "Did not meet early stopping. Best iteration is:\n",
      "[100]\tval's quantile: 5.43953\n"
     ]
    },
    {
     "name": "stderr",
     "output_type": "stream",
     "text": [
      "/tmp/ipykernel_1914/1911826636.py:143: FutureWarning: The default of observed=False is deprecated and will be changed to True in a future version of pandas. Pass observed=False to retain current behavior or observed=True to adopt the future default and silence this warning.\n",
      "  df.groupby(\"participant_id\")[\"cgm_glucose\"]\n"
     ]
    }
   ],
   "source": [
    "# Takes 12 minutes\n",
    "_BUCKET_NAME = \"cgmproject2025\"\n",
    "_BASE_PREFIX = \"models/predictions\"\n",
    "_gcs_client = storage.Client()\n",
    "train = load_data_from_gcs(_BUCKET_NAME, 'ai-ready/data/train_timeseries_meal.feather')\n",
    "test  = load_data_from_gcs(_BUCKET_NAME, 'ai-ready/data/test_timeseries_meal.feather')\n",
    "models, forecast = train_and_evaluate_quantiles_on_val(train)"
   ]
  },
  {
   "cell_type": "code",
   "execution_count": 8,
   "id": "3e3f7b3d",
   "metadata": {},
   "outputs": [
    {
     "data": {
      "text/html": [
       "<div>\n",
       "<style scoped>\n",
       "    .dataframe tbody tr th:only-of-type {\n",
       "        vertical-align: middle;\n",
       "    }\n",
       "\n",
       "    .dataframe tbody tr th {\n",
       "        vertical-align: top;\n",
       "    }\n",
       "\n",
       "    .dataframe thead th {\n",
       "        text-align: right;\n",
       "    }\n",
       "</style>\n",
       "<table border=\"1\" class=\"dataframe\">\n",
       "  <thead>\n",
       "    <tr style=\"text-align: right;\">\n",
       "      <th></th>\n",
       "      <th>participant_id</th>\n",
       "      <th>ds</th>\n",
       "      <th>forecast_horizon</th>\n",
       "      <th>quantile</th>\n",
       "      <th>pred_cgm</th>\n",
       "      <th>actual_cgm</th>\n",
       "    </tr>\n",
       "  </thead>\n",
       "  <tbody>\n",
       "    <tr>\n",
       "      <th>0</th>\n",
       "      <td>1023</td>\n",
       "      <td>2831</td>\n",
       "      <td>1</td>\n",
       "      <td>0.2</td>\n",
       "      <td>138.219561</td>\n",
       "      <td>148.0</td>\n",
       "    </tr>\n",
       "    <tr>\n",
       "      <th>1</th>\n",
       "      <td>1024</td>\n",
       "      <td>2827</td>\n",
       "      <td>1</td>\n",
       "      <td>0.2</td>\n",
       "      <td>107.206395</td>\n",
       "      <td>108.0</td>\n",
       "    </tr>\n",
       "    <tr>\n",
       "      <th>2</th>\n",
       "      <td>1026</td>\n",
       "      <td>2549</td>\n",
       "      <td>1</td>\n",
       "      <td>0.2</td>\n",
       "      <td>156.440931</td>\n",
       "      <td>167.0</td>\n",
       "    </tr>\n",
       "    <tr>\n",
       "      <th>3</th>\n",
       "      <td>1027</td>\n",
       "      <td>2831</td>\n",
       "      <td>1</td>\n",
       "      <td>0.2</td>\n",
       "      <td>193.598197</td>\n",
       "      <td>283.0</td>\n",
       "    </tr>\n",
       "    <tr>\n",
       "      <th>4</th>\n",
       "      <td>1028</td>\n",
       "      <td>2829</td>\n",
       "      <td>1</td>\n",
       "      <td>0.2</td>\n",
       "      <td>119.744727</td>\n",
       "      <td>120.0</td>\n",
       "    </tr>\n",
       "    <tr>\n",
       "      <th>...</th>\n",
       "      <td>...</td>\n",
       "      <td>...</td>\n",
       "      <td>...</td>\n",
       "      <td>...</td>\n",
       "      <td>...</td>\n",
       "      <td>...</td>\n",
       "    </tr>\n",
       "    <tr>\n",
       "      <th>26671</th>\n",
       "      <td>7405</td>\n",
       "      <td>2831</td>\n",
       "      <td>12</td>\n",
       "      <td>0.8</td>\n",
       "      <td>169.602539</td>\n",
       "      <td>175.0</td>\n",
       "    </tr>\n",
       "    <tr>\n",
       "      <th>26672</th>\n",
       "      <td>7406</td>\n",
       "      <td>2831</td>\n",
       "      <td>12</td>\n",
       "      <td>0.8</td>\n",
       "      <td>182.644295</td>\n",
       "      <td>225.0</td>\n",
       "    </tr>\n",
       "    <tr>\n",
       "      <th>26673</th>\n",
       "      <td>7407</td>\n",
       "      <td>2831</td>\n",
       "      <td>12</td>\n",
       "      <td>0.8</td>\n",
       "      <td>167.345823</td>\n",
       "      <td>136.0</td>\n",
       "    </tr>\n",
       "    <tr>\n",
       "      <th>26674</th>\n",
       "      <td>7409</td>\n",
       "      <td>2831</td>\n",
       "      <td>12</td>\n",
       "      <td>0.8</td>\n",
       "      <td>165.537588</td>\n",
       "      <td>132.0</td>\n",
       "    </tr>\n",
       "    <tr>\n",
       "      <th>26675</th>\n",
       "      <td>7411</td>\n",
       "      <td>2601</td>\n",
       "      <td>12</td>\n",
       "      <td>0.8</td>\n",
       "      <td>105.163198</td>\n",
       "      <td>81.0</td>\n",
       "    </tr>\n",
       "  </tbody>\n",
       "</table>\n",
       "<p>26676 rows × 6 columns</p>\n",
       "</div>"
      ],
      "text/plain": [
       "      participant_id    ds  forecast_horizon  quantile    pred_cgm  actual_cgm\n",
       "0               1023  2831                 1       0.2  138.219561       148.0\n",
       "1               1024  2827                 1       0.2  107.206395       108.0\n",
       "2               1026  2549                 1       0.2  156.440931       167.0\n",
       "3               1027  2831                 1       0.2  193.598197       283.0\n",
       "4               1028  2829                 1       0.2  119.744727       120.0\n",
       "...              ...   ...               ...       ...         ...         ...\n",
       "26671           7405  2831                12       0.8  169.602539       175.0\n",
       "26672           7406  2831                12       0.8  182.644295       225.0\n",
       "26673           7407  2831                12       0.8  167.345823       136.0\n",
       "26674           7409  2831                12       0.8  165.537588       132.0\n",
       "26675           7411  2601                12       0.8  105.163198        81.0\n",
       "\n",
       "[26676 rows x 6 columns]"
      ]
     },
     "execution_count": 8,
     "metadata": {},
     "output_type": "execute_result"
    }
   ],
   "source": [
    "forecast"
   ]
  },
  {
   "cell_type": "code",
   "execution_count": 9,
   "id": "8d174463",
   "metadata": {},
   "outputs": [
    {
     "name": "stdout",
     "output_type": "stream",
     "text": [
      "Forecast contains 741 unique participants:\n"
     ]
    }
   ],
   "source": [
    "# Which participants does forecast have?\n",
    "participants = forecast[\"participant_id\"].unique()\n",
    "print(f\"Forecast contains {len(participants)} unique participants:\")"
   ]
  },
  {
   "cell_type": "code",
   "execution_count": 10,
   "id": "cb66ef91",
   "metadata": {},
   "outputs": [
    {
     "data": {
      "text/html": [
       "<div>\n",
       "<style scoped>\n",
       "    .dataframe tbody tr th:only-of-type {\n",
       "        vertical-align: middle;\n",
       "    }\n",
       "\n",
       "    .dataframe tbody tr th {\n",
       "        vertical-align: top;\n",
       "    }\n",
       "\n",
       "    .dataframe thead th {\n",
       "        text-align: right;\n",
       "    }\n",
       "</style>\n",
       "<table border=\"1\" class=\"dataframe\">\n",
       "  <thead>\n",
       "    <tr style=\"text-align: right;\">\n",
       "      <th></th>\n",
       "      <th>participant_id</th>\n",
       "      <th>ds</th>\n",
       "      <th>forecast_horizon</th>\n",
       "      <th>quantile</th>\n",
       "      <th>pred_cgm</th>\n",
       "      <th>actual_cgm</th>\n",
       "    </tr>\n",
       "  </thead>\n",
       "  <tbody>\n",
       "    <tr>\n",
       "      <th>741</th>\n",
       "      <td>1023</td>\n",
       "      <td>2831</td>\n",
       "      <td>1</td>\n",
       "      <td>0.5</td>\n",
       "      <td>139.263977</td>\n",
       "      <td>148.0</td>\n",
       "    </tr>\n",
       "    <tr>\n",
       "      <th>742</th>\n",
       "      <td>1024</td>\n",
       "      <td>2827</td>\n",
       "      <td>1</td>\n",
       "      <td>0.5</td>\n",
       "      <td>108.855243</td>\n",
       "      <td>108.0</td>\n",
       "    </tr>\n",
       "    <tr>\n",
       "      <th>743</th>\n",
       "      <td>1026</td>\n",
       "      <td>2549</td>\n",
       "      <td>1</td>\n",
       "      <td>0.5</td>\n",
       "      <td>163.989110</td>\n",
       "      <td>167.0</td>\n",
       "    </tr>\n",
       "    <tr>\n",
       "      <th>744</th>\n",
       "      <td>1027</td>\n",
       "      <td>2831</td>\n",
       "      <td>1</td>\n",
       "      <td>0.5</td>\n",
       "      <td>281.360740</td>\n",
       "      <td>283.0</td>\n",
       "    </tr>\n",
       "    <tr>\n",
       "      <th>745</th>\n",
       "      <td>1028</td>\n",
       "      <td>2829</td>\n",
       "      <td>1</td>\n",
       "      <td>0.5</td>\n",
       "      <td>121.194108</td>\n",
       "      <td>120.0</td>\n",
       "    </tr>\n",
       "  </tbody>\n",
       "</table>\n",
       "</div>"
      ],
      "text/plain": [
       "    participant_id    ds  forecast_horizon  quantile    pred_cgm  actual_cgm\n",
       "741           1023  2831                 1       0.5  139.263977       148.0\n",
       "742           1024  2827                 1       0.5  108.855243       108.0\n",
       "743           1026  2549                 1       0.5  163.989110       167.0\n",
       "744           1027  2831                 1       0.5  281.360740       283.0\n",
       "745           1028  2829                 1       0.5  121.194108       120.0"
      ]
     },
     "execution_count": 10,
     "metadata": {},
     "output_type": "execute_result"
    }
   ],
   "source": [
    "# Get forecasts of median quantile (0.5) for all horizons\n",
    "median_forecast = forecast[forecast[\"quantile\"] == 0.5]\n",
    "median_forecast.head()"
   ]
  },
  {
   "cell_type": "code",
   "execution_count": 11,
   "id": "59f2e771",
   "metadata": {},
   "outputs": [
    {
     "data": {
      "text/html": [
       "<div>\n",
       "<style scoped>\n",
       "    .dataframe tbody tr th:only-of-type {\n",
       "        vertical-align: middle;\n",
       "    }\n",
       "\n",
       "    .dataframe tbody tr th {\n",
       "        vertical-align: top;\n",
       "    }\n",
       "\n",
       "    .dataframe thead th {\n",
       "        text-align: right;\n",
       "    }\n",
       "</style>\n",
       "<table border=\"1\" class=\"dataframe\">\n",
       "  <thead>\n",
       "    <tr style=\"text-align: right;\">\n",
       "      <th></th>\n",
       "      <th>participant_id</th>\n",
       "      <th>ds</th>\n",
       "      <th>forecast_horizon</th>\n",
       "      <th>quantile</th>\n",
       "      <th>pred_cgm</th>\n",
       "      <th>actual_cgm</th>\n",
       "    </tr>\n",
       "  </thead>\n",
       "  <tbody>\n",
       "    <tr>\n",
       "      <th>743</th>\n",
       "      <td>1026</td>\n",
       "      <td>2549</td>\n",
       "      <td>1</td>\n",
       "      <td>0.5</td>\n",
       "      <td>163.989110</td>\n",
       "      <td>167.0</td>\n",
       "    </tr>\n",
       "    <tr>\n",
       "      <th>2966</th>\n",
       "      <td>1026</td>\n",
       "      <td>2549</td>\n",
       "      <td>2</td>\n",
       "      <td>0.5</td>\n",
       "      <td>167.225245</td>\n",
       "      <td>168.0</td>\n",
       "    </tr>\n",
       "    <tr>\n",
       "      <th>5189</th>\n",
       "      <td>1026</td>\n",
       "      <td>2549</td>\n",
       "      <td>3</td>\n",
       "      <td>0.5</td>\n",
       "      <td>164.775978</td>\n",
       "      <td>163.0</td>\n",
       "    </tr>\n",
       "    <tr>\n",
       "      <th>7412</th>\n",
       "      <td>1026</td>\n",
       "      <td>2549</td>\n",
       "      <td>4</td>\n",
       "      <td>0.5</td>\n",
       "      <td>162.208187</td>\n",
       "      <td>156.0</td>\n",
       "    </tr>\n",
       "    <tr>\n",
       "      <th>9635</th>\n",
       "      <td>1026</td>\n",
       "      <td>2549</td>\n",
       "      <td>5</td>\n",
       "      <td>0.5</td>\n",
       "      <td>161.525143</td>\n",
       "      <td>148.0</td>\n",
       "    </tr>\n",
       "    <tr>\n",
       "      <th>11858</th>\n",
       "      <td>1026</td>\n",
       "      <td>2549</td>\n",
       "      <td>6</td>\n",
       "      <td>0.5</td>\n",
       "      <td>155.650092</td>\n",
       "      <td>144.0</td>\n",
       "    </tr>\n",
       "    <tr>\n",
       "      <th>14081</th>\n",
       "      <td>1026</td>\n",
       "      <td>2549</td>\n",
       "      <td>7</td>\n",
       "      <td>0.5</td>\n",
       "      <td>151.922180</td>\n",
       "      <td>142.0</td>\n",
       "    </tr>\n",
       "    <tr>\n",
       "      <th>16304</th>\n",
       "      <td>1026</td>\n",
       "      <td>2549</td>\n",
       "      <td>8</td>\n",
       "      <td>0.5</td>\n",
       "      <td>149.008204</td>\n",
       "      <td>141.0</td>\n",
       "    </tr>\n",
       "    <tr>\n",
       "      <th>18527</th>\n",
       "      <td>1026</td>\n",
       "      <td>2549</td>\n",
       "      <td>9</td>\n",
       "      <td>0.5</td>\n",
       "      <td>143.772136</td>\n",
       "      <td>138.0</td>\n",
       "    </tr>\n",
       "    <tr>\n",
       "      <th>20750</th>\n",
       "      <td>1026</td>\n",
       "      <td>2549</td>\n",
       "      <td>10</td>\n",
       "      <td>0.5</td>\n",
       "      <td>141.928288</td>\n",
       "      <td>137.0</td>\n",
       "    </tr>\n",
       "    <tr>\n",
       "      <th>22973</th>\n",
       "      <td>1026</td>\n",
       "      <td>2549</td>\n",
       "      <td>11</td>\n",
       "      <td>0.5</td>\n",
       "      <td>139.686214</td>\n",
       "      <td>137.0</td>\n",
       "    </tr>\n",
       "    <tr>\n",
       "      <th>25196</th>\n",
       "      <td>1026</td>\n",
       "      <td>2549</td>\n",
       "      <td>12</td>\n",
       "      <td>0.5</td>\n",
       "      <td>138.798850</td>\n",
       "      <td>137.0</td>\n",
       "    </tr>\n",
       "  </tbody>\n",
       "</table>\n",
       "</div>"
      ],
      "text/plain": [
       "      participant_id    ds  forecast_horizon  quantile    pred_cgm  actual_cgm\n",
       "743             1026  2549                 1       0.5  163.989110       167.0\n",
       "2966            1026  2549                 2       0.5  167.225245       168.0\n",
       "5189            1026  2549                 3       0.5  164.775978       163.0\n",
       "7412            1026  2549                 4       0.5  162.208187       156.0\n",
       "9635            1026  2549                 5       0.5  161.525143       148.0\n",
       "11858           1026  2549                 6       0.5  155.650092       144.0\n",
       "14081           1026  2549                 7       0.5  151.922180       142.0\n",
       "16304           1026  2549                 8       0.5  149.008204       141.0\n",
       "18527           1026  2549                 9       0.5  143.772136       138.0\n",
       "20750           1026  2549                10       0.5  141.928288       137.0\n",
       "22973           1026  2549                11       0.5  139.686214       137.0\n",
       "25196           1026  2549                12       0.5  138.798850       137.0"
      ]
     },
     "execution_count": 11,
     "metadata": {},
     "output_type": "execute_result"
    }
   ],
   "source": [
    "# Get the forecasts for a participant:\n",
    "pid = participants[2]\n",
    "pid_forecast = median_forecast[median_forecast[\"participant_id\"] == pid]\n",
    "pid_forecast"
   ]
  },
  {
   "cell_type": "code",
   "execution_count": 12,
   "id": "2bc37aad",
   "metadata": {},
   "outputs": [
    {
     "name": "stdout",
     "output_type": "stream",
     "text": [
      "MAE: 9.8784, RMSE: 16.0638, sMAPE: 7.28, Quantile Loss: 4.9392\n"
     ]
    }
   ],
   "source": [
    "# Calculate MAE, SMAPE, RMSE for forecasts (Reconstruct vector 1-12 per participant)\n",
    "from sklearn.metrics import mean_absolute_error, root_mean_squared_error\n",
    "def smape(y_true, y_pred):\n",
    "    return 100 * np.mean(\n",
    "        2 * np.abs(y_pred - y_true) / (np.abs(y_pred) + np.abs(y_true) + 1e-8)\n",
    "    )\n",
    "def quantile_loss(y_true, y_pred, q=0.5):\n",
    "    return np.mean(np.maximum(q * (y_true - y_pred), (q - 1) * (y_true - y_pred)))\n",
    "mae = mean_absolute_error(median_forecast[\"actual_cgm\"], median_forecast[\"pred_cgm\"])\n",
    "rmse = root_mean_squared_error(median_forecast[\"actual_cgm\"], median_forecast[\"pred_cgm\"]) \n",
    "smape_val = smape(median_forecast[\"actual_cgm\"], median_forecast[\"pred_cgm\"])\n",
    "quantile_val = quantile_loss(median_forecast[\"actual_cgm\"], median_forecast[\"pred_cgm\"], q=0.5)\n",
    "print(f\"MAE: {mae:.4f}, RMSE: {rmse:.4f}, sMAPE: {smape_val:.2f}, Quantile Loss: {quantile_val:.4f}\")\n"
   ]
  },
  {
   "cell_type": "code",
   "execution_count": 13,
   "id": "9b4395ed",
   "metadata": {},
   "outputs": [
    {
     "name": "stderr",
     "output_type": "stream",
     "text": [
      "/tmp/ipykernel_1914/2712978495.py:23: FutureWarning: The default of observed=False is deprecated and will be changed to True in a future version of pandas. Pass observed=False to retain current behavior or observed=True to adopt the future default and silence this warning.\n",
      "  .groupby('participant_id')['forecast_horizon']\n",
      "/tmp/ipykernel_1914/2712978495.py:49: FutureWarning: The default of observed=False is deprecated and will be changed to True in a future version of pandas. Pass observed=False to retain current behavior or observed=True to adopt the future default and silence this warning.\n",
      "  .groupby('participant_id')\n"
     ]
    },
    {
     "name": "stdout",
     "output_type": "stream",
     "text": [
      "      participant_id    ds  forecast_horizon  quantile    pred_cgm  actual_cgm\n",
      "741             1023  2831                 1       0.5  139.263977       148.0\n",
      "742             1024  2827                 1       0.5  108.855243       108.0\n",
      "743             1026  2549                 1       0.5  163.989110       167.0\n",
      "744             1027  2831                 1       0.5  281.360740       283.0\n",
      "745             1028  2829                 1       0.5  121.194108       120.0\n",
      "...              ...   ...               ...       ...         ...         ...\n",
      "25930           7405  2831                12       0.5  161.709068       175.0\n",
      "25931           7406  2831                12       0.5  158.552294       225.0\n",
      "25932           7407  2831                12       0.5  133.761428       136.0\n",
      "25933           7409  2831                12       0.5  137.842430       132.0\n",
      "25934           7411  2601                12       0.5   87.629824        81.0\n",
      "\n",
      "[8892 rows x 6 columns]\n",
      "  participant_id        MAE       RMSE      sMAPE  Quantile_Loss\n",
      "0           1023  19.873624  21.421436  13.762188       9.936812\n",
      "1           1024   4.043821   4.984085   3.782896       2.021910\n",
      "2           1026   5.838410   7.074919   3.911125       2.919205\n",
      "3           1027  14.020510  17.016004   4.976503       7.010255\n",
      "4           1028  11.373274  12.599048  10.121164       5.686637\n"
     ]
    },
    {
     "name": "stderr",
     "output_type": "stream",
     "text": [
      "/tmp/ipykernel_1914/2712978495.py:50: FutureWarning: DataFrameGroupBy.apply operated on the grouping columns. This behavior is deprecated, and in a future version of pandas the grouping columns will be excluded from the operation. Either pass `include_groups=False` to exclude the groupings or explicitly select the grouping columns after groupby to silence this warning.\n",
      "  .apply(compute_metrics)\n"
     ]
    }
   ],
   "source": [
    "import numpy as np\n",
    "import pandas as pd\n",
    "from sklearn.metrics import mean_absolute_error, root_mean_squared_error\n",
    "\n",
    "# your helper functions\n",
    "def smape(y_true, y_pred):\n",
    "    return 100 * np.mean(\n",
    "        2 * np.abs(y_pred - y_true) / (np.abs(y_pred) + np.abs(y_true) + 1e-8)\n",
    "    )\n",
    "\n",
    "def quantile_loss(y_true, y_pred, q=0.5):\n",
    "    return np.mean(\n",
    "        np.maximum(q * (y_true - y_pred), (q - 1) * (y_true - y_pred))\n",
    "    )\n",
    "\n",
    "# assume val_forecast_df is your DF with columns\n",
    "# ['participant_id','forecast_horizon','quantile','pred_cgm','actual_cgm']\n",
    "median_forecast = forecast[forecast['quantile'] == 0.5]\n",
    "\n",
    "# 1) find participants with a full 1–12 horizon vector\n",
    "counts = (\n",
    "    median_forecast\n",
    "    .groupby('participant_id')['forecast_horizon']\n",
    "    .nunique()\n",
    ")\n",
    "complete_ids = counts[counts == HORIZON].index\n",
    "\n",
    "# 2) filter to only those participants\n",
    "mf_full = median_forecast[median_forecast['participant_id'].isin(complete_ids)]\n",
    "\n",
    "print(mf_full)\n",
    "\n",
    "# 3) define a safe metrics function\n",
    "def compute_metrics(df):\n",
    "    # df should have exactly HORIZON rows\n",
    "    df = df.sort_values('forecast_horizon')\n",
    "    y_true = df['actual_cgm'].values\n",
    "    y_pred = df['pred_cgm'].values\n",
    "    return pd.Series({\n",
    "        'MAE':            mean_absolute_error(y_true, y_pred),\n",
    "        'RMSE':           root_mean_squared_error(y_true, y_pred),\n",
    "        'sMAPE':          smape(y_true, y_pred),\n",
    "        'Quantile_Loss':  quantile_loss(y_true, y_pred, q=0.5),\n",
    "    })\n",
    "\n",
    "# 4) group/apply\n",
    "metrics_df = (\n",
    "    mf_full\n",
    "    .groupby('participant_id')\n",
    "    .apply(compute_metrics)\n",
    "    .reset_index()\n",
    ")\n",
    "\n",
    "print(metrics_df.head())\n",
    "\n"
   ]
  },
  {
   "cell_type": "code",
   "execution_count": 14,
   "id": "df5a938e",
   "metadata": {},
   "outputs": [
    {
     "data": {
      "text/plain": [
       "MAE               9.878429\n",
       "RMSE             11.588758\n",
       "sMAPE             7.280751\n",
       "Quantile_Loss     4.939214\n",
       "dtype: float64"
      ]
     },
     "execution_count": 14,
     "metadata": {},
     "output_type": "execute_result"
    }
   ],
   "source": [
    "metrics_df\n",
    "\n",
    "# Compute average metrics across participants\n",
    "overall_metrics = metrics_df.mean(numeric_only=True)\n",
    "overall_metrics"
   ]
  },
  {
   "cell_type": "code",
   "execution_count": 17,
   "id": "52a8952b",
   "metadata": {},
   "outputs": [
    {
     "name": "stdout",
     "output_type": "stream",
     "text": [
      "Overall Metrics with Confidence Intervals:\n",
      "MAE: 9.8784 (95% CI: 9.1628 - 10.5941)\n",
      "RMSE: 11.5888 (95% CI: 10.7873 - 12.3903)\n",
      "sMAPE: 7.2808 (95% CI: 6.8243 - 7.7372)\n",
      "Quantile_Loss: 4.9392 (95% CI: 4.5814 - 5.2970)\n"
     ]
    }
   ],
   "source": [
    "# Compute the average and confidence intervals for each metric\n",
    "def compute_confidence_intervals(df, metric_col):\n",
    "    mean_val = df[metric_col].mean()\n",
    "    std_val = df[metric_col].std()\n",
    "    n = len(df)\n",
    "    ci_lower = mean_val - 1.96 * (std_val / np.sqrt(n))\n",
    "    ci_upper = mean_val + 1.96 * (std_val / np.sqrt(n))\n",
    "    return pd.Series({\n",
    "        'mean': mean_val,\n",
    "        'ci_lower': ci_lower,\n",
    "        'ci_upper': ci_upper\n",
    "    }) \n",
    "compute_confidence_intervals(metrics_df, 'MAE')\n",
    "compute_confidence_intervals(metrics_df, 'RMSE')\n",
    "compute_confidence_intervals(metrics_df, 'sMAPE')\n",
    "compute_confidence_intervals(metrics_df, 'Quantile_Loss')\n",
    "\n",
    "# Print the overall metrics with confidence intervals\n",
    "print(\"Overall Metrics with Confidence Intervals:\")\n",
    "for metric in overall_metrics.index:\n",
    "    ci = compute_confidence_intervals(metrics_df, metric)\n",
    "    print(f\"{metric}: {overall_metrics[metric]:.4f} (95% CI: {ci['ci_lower']:.4f} - {ci['ci_upper']:.4f})\")"
   ]
  },
  {
   "cell_type": "code",
   "execution_count": 15,
   "id": "396c81d6",
   "metadata": {},
   "outputs": [
    {
     "ename": "KeyboardInterrupt",
     "evalue": "",
     "output_type": "error",
     "traceback": [
      "\u001b[0;31m---------------------------------------------------------------------------\u001b[0m",
      "\u001b[0;31mKeyboardInterrupt\u001b[0m                         Traceback (most recent call last)",
      "Cell \u001b[0;32mIn[15], line 35\u001b[0m\n\u001b[1;32m     33\u001b[0m all_pred \u001b[38;5;241m=\u001b[39m []\n\u001b[1;32m     34\u001b[0m \u001b[38;5;28;01mfor\u001b[39;00m h, model \u001b[38;5;129;01min\u001b[39;00m models\u001b[38;5;241m.\u001b[39mitems():\n\u001b[0;32m---> 35\u001b[0m     df_h \u001b[38;5;241m=\u001b[39m \u001b[43mcreate_features\u001b[49m\u001b[43m(\u001b[49m\u001b[43mtrain\u001b[49m\u001b[38;5;241;43m.\u001b[39;49m\u001b[43mcopy\u001b[49m\u001b[43m(\u001b[49m\u001b[43m)\u001b[49m\u001b[43m)\u001b[49m\n\u001b[1;32m     36\u001b[0m     df_h[\u001b[38;5;124m\"\u001b[39m\u001b[38;5;124mtarget_h\u001b[39m\u001b[38;5;124m\"\u001b[39m] \u001b[38;5;241m=\u001b[39m df_h\u001b[38;5;241m.\u001b[39mgroupby(\u001b[38;5;124m\"\u001b[39m\u001b[38;5;124mparticipant_id\u001b[39m\u001b[38;5;124m\"\u001b[39m)[\u001b[38;5;124m\"\u001b[39m\u001b[38;5;124mcgm_glucose\u001b[39m\u001b[38;5;124m\"\u001b[39m]\u001b[38;5;241m.\u001b[39mshift(\u001b[38;5;241m-\u001b[39mh)\n\u001b[1;32m     37\u001b[0m     df_h \u001b[38;5;241m=\u001b[39m df_h\u001b[38;5;241m.\u001b[39mdropna(subset\u001b[38;5;241m=\u001b[39mFEATURES \u001b[38;5;241m+\u001b[39m [\u001b[38;5;124m\"\u001b[39m\u001b[38;5;124mtarget_h\u001b[39m\u001b[38;5;124m\"\u001b[39m])\n",
      "Cell \u001b[0;32mIn[5], line 52\u001b[0m, in \u001b[0;36mcreate_features\u001b[0;34m(df)\u001b[0m\n\u001b[1;32m     48\u001b[0m df[\u001b[38;5;124m\"\u001b[39m\u001b[38;5;124mcgm_lagdiff_3_6\u001b[39m\u001b[38;5;124m\"\u001b[39m] \u001b[38;5;241m=\u001b[39m df[\u001b[38;5;124m\"\u001b[39m\u001b[38;5;124mcgm_lag_3\u001b[39m\u001b[38;5;124m\"\u001b[39m] \u001b[38;5;241m-\u001b[39m df[\u001b[38;5;124m\"\u001b[39m\u001b[38;5;124mcgm_lag_6\u001b[39m\u001b[38;5;124m\"\u001b[39m]\n\u001b[1;32m     49\u001b[0m \u001b[38;5;66;03m# rolling stats\u001b[39;00m\n\u001b[1;32m     50\u001b[0m df[\u001b[38;5;124m\"\u001b[39m\u001b[38;5;124mcgm_rolling_mean\u001b[39m\u001b[38;5;124m\"\u001b[39m] \u001b[38;5;241m=\u001b[39m (\n\u001b[1;32m     51\u001b[0m     \u001b[43mdf\u001b[49m\u001b[38;5;241;43m.\u001b[39;49m\u001b[43mgroupby\u001b[49m\u001b[43m(\u001b[49m\u001b[38;5;124;43m\"\u001b[39;49m\u001b[38;5;124;43mparticipant_id\u001b[39;49m\u001b[38;5;124;43m\"\u001b[39;49m\u001b[43m)\u001b[49m\u001b[43m[\u001b[49m\u001b[38;5;124;43m\"\u001b[39;49m\u001b[38;5;124;43mcgm_glucose\u001b[39;49m\u001b[38;5;124;43m\"\u001b[39;49m\u001b[43m]\u001b[49m\n\u001b[0;32m---> 52\u001b[0m \u001b[43m      \u001b[49m\u001b[38;5;241;43m.\u001b[39;49m\u001b[43mtransform\u001b[49m\u001b[43m(\u001b[49m\u001b[38;5;28;43;01mlambda\u001b[39;49;00m\u001b[43m \u001b[49m\u001b[43mx\u001b[49m\u001b[43m:\u001b[49m\u001b[43m \u001b[49m\u001b[43mx\u001b[49m\u001b[38;5;241;43m.\u001b[39;49m\u001b[43mshift\u001b[49m\u001b[43m(\u001b[49m\u001b[38;5;241;43m1\u001b[39;49m\u001b[43m)\u001b[49m\u001b[38;5;241;43m.\u001b[39;49m\u001b[43mrolling\u001b[49m\u001b[43m(\u001b[49m\u001b[43mROLLING_WINDOW\u001b[49m\u001b[43m)\u001b[49m\u001b[38;5;241;43m.\u001b[39;49m\u001b[43mmean\u001b[49m\u001b[43m(\u001b[49m\u001b[43m)\u001b[49m\u001b[43m)\u001b[49m\n\u001b[1;32m     53\u001b[0m )\n\u001b[1;32m     54\u001b[0m df[\u001b[38;5;124m\"\u001b[39m\u001b[38;5;124mcgm_rolling_std\u001b[39m\u001b[38;5;124m\"\u001b[39m] \u001b[38;5;241m=\u001b[39m (\n\u001b[1;32m     55\u001b[0m     df\u001b[38;5;241m.\u001b[39mgroupby(\u001b[38;5;124m\"\u001b[39m\u001b[38;5;124mparticipant_id\u001b[39m\u001b[38;5;124m\"\u001b[39m)[\u001b[38;5;124m\"\u001b[39m\u001b[38;5;124mcgm_glucose\u001b[39m\u001b[38;5;124m\"\u001b[39m]\n\u001b[1;32m     56\u001b[0m       \u001b[38;5;241m.\u001b[39mtransform(\u001b[38;5;28;01mlambda\u001b[39;00m x: x\u001b[38;5;241m.\u001b[39mshift(\u001b[38;5;241m1\u001b[39m)\u001b[38;5;241m.\u001b[39mrolling(ROLLING_WINDOW)\u001b[38;5;241m.\u001b[39mstd())\n\u001b[1;32m     57\u001b[0m )\n\u001b[1;32m     58\u001b[0m \u001b[38;5;28;01mreturn\u001b[39;00m df\n",
      "File \u001b[0;32m~/miniconda3/envs/mambatf/lib/python3.10/site-packages/pandas/core/groupby/generic.py:517\u001b[0m, in \u001b[0;36mSeriesGroupBy.transform\u001b[0;34m(self, func, engine, engine_kwargs, *args, **kwargs)\u001b[0m\n\u001b[1;32m    514\u001b[0m \u001b[38;5;129m@Substitution\u001b[39m(klass\u001b[38;5;241m=\u001b[39m\u001b[38;5;124m\"\u001b[39m\u001b[38;5;124mSeries\u001b[39m\u001b[38;5;124m\"\u001b[39m, example\u001b[38;5;241m=\u001b[39m__examples_series_doc)\n\u001b[1;32m    515\u001b[0m \u001b[38;5;129m@Appender\u001b[39m(_transform_template)\n\u001b[1;32m    516\u001b[0m \u001b[38;5;28;01mdef\u001b[39;00m\u001b[38;5;250m \u001b[39m\u001b[38;5;21mtransform\u001b[39m(\u001b[38;5;28mself\u001b[39m, func, \u001b[38;5;241m*\u001b[39margs, engine\u001b[38;5;241m=\u001b[39m\u001b[38;5;28;01mNone\u001b[39;00m, engine_kwargs\u001b[38;5;241m=\u001b[39m\u001b[38;5;28;01mNone\u001b[39;00m, \u001b[38;5;241m*\u001b[39m\u001b[38;5;241m*\u001b[39mkwargs):\n\u001b[0;32m--> 517\u001b[0m     \u001b[38;5;28;01mreturn\u001b[39;00m \u001b[38;5;28;43mself\u001b[39;49m\u001b[38;5;241;43m.\u001b[39;49m\u001b[43m_transform\u001b[49m\u001b[43m(\u001b[49m\n\u001b[1;32m    518\u001b[0m \u001b[43m        \u001b[49m\u001b[43mfunc\u001b[49m\u001b[43m,\u001b[49m\u001b[43m \u001b[49m\u001b[38;5;241;43m*\u001b[39;49m\u001b[43margs\u001b[49m\u001b[43m,\u001b[49m\u001b[43m \u001b[49m\u001b[43mengine\u001b[49m\u001b[38;5;241;43m=\u001b[39;49m\u001b[43mengine\u001b[49m\u001b[43m,\u001b[49m\u001b[43m \u001b[49m\u001b[43mengine_kwargs\u001b[49m\u001b[38;5;241;43m=\u001b[39;49m\u001b[43mengine_kwargs\u001b[49m\u001b[43m,\u001b[49m\u001b[43m \u001b[49m\u001b[38;5;241;43m*\u001b[39;49m\u001b[38;5;241;43m*\u001b[39;49m\u001b[43mkwargs\u001b[49m\n\u001b[1;32m    519\u001b[0m \u001b[43m    \u001b[49m\u001b[43m)\u001b[49m\n",
      "File \u001b[0;32m~/miniconda3/envs/mambatf/lib/python3.10/site-packages/pandas/core/groupby/groupby.py:2027\u001b[0m, in \u001b[0;36mGroupBy._transform\u001b[0;34m(self, func, engine, engine_kwargs, *args, **kwargs)\u001b[0m\n\u001b[1;32m   2024\u001b[0m     warn_alias_replacement(\u001b[38;5;28mself\u001b[39m, orig_func, func)\n\u001b[1;32m   2026\u001b[0m \u001b[38;5;28;01mif\u001b[39;00m \u001b[38;5;129;01mnot\u001b[39;00m \u001b[38;5;28misinstance\u001b[39m(func, \u001b[38;5;28mstr\u001b[39m):\n\u001b[0;32m-> 2027\u001b[0m     \u001b[38;5;28;01mreturn\u001b[39;00m \u001b[38;5;28;43mself\u001b[39;49m\u001b[38;5;241;43m.\u001b[39;49m\u001b[43m_transform_general\u001b[49m\u001b[43m(\u001b[49m\u001b[43mfunc\u001b[49m\u001b[43m,\u001b[49m\u001b[43m \u001b[49m\u001b[43mengine\u001b[49m\u001b[43m,\u001b[49m\u001b[43m \u001b[49m\u001b[43mengine_kwargs\u001b[49m\u001b[43m,\u001b[49m\u001b[43m \u001b[49m\u001b[38;5;241;43m*\u001b[39;49m\u001b[43margs\u001b[49m\u001b[43m,\u001b[49m\u001b[43m \u001b[49m\u001b[38;5;241;43m*\u001b[39;49m\u001b[38;5;241;43m*\u001b[39;49m\u001b[43mkwargs\u001b[49m\u001b[43m)\u001b[49m\n\u001b[1;32m   2029\u001b[0m \u001b[38;5;28;01melif\u001b[39;00m func \u001b[38;5;129;01mnot\u001b[39;00m \u001b[38;5;129;01min\u001b[39;00m base\u001b[38;5;241m.\u001b[39mtransform_kernel_allowlist:\n\u001b[1;32m   2030\u001b[0m     msg \u001b[38;5;241m=\u001b[39m \u001b[38;5;124mf\u001b[39m\u001b[38;5;124m\"\u001b[39m\u001b[38;5;124m'\u001b[39m\u001b[38;5;132;01m{\u001b[39;00mfunc\u001b[38;5;132;01m}\u001b[39;00m\u001b[38;5;124m'\u001b[39m\u001b[38;5;124m is not a valid function name for transform(name)\u001b[39m\u001b[38;5;124m\"\u001b[39m\n",
      "File \u001b[0;32m~/miniconda3/envs/mambatf/lib/python3.10/site-packages/pandas/core/groupby/generic.py:557\u001b[0m, in \u001b[0;36mSeriesGroupBy._transform_general\u001b[0;34m(self, func, engine, engine_kwargs, *args, **kwargs)\u001b[0m\n\u001b[1;32m    552\u001b[0m \u001b[38;5;28;01mfor\u001b[39;00m name, group \u001b[38;5;129;01min\u001b[39;00m \u001b[38;5;28mself\u001b[39m\u001b[38;5;241m.\u001b[39m_grouper\u001b[38;5;241m.\u001b[39mget_iterator(\n\u001b[1;32m    553\u001b[0m     \u001b[38;5;28mself\u001b[39m\u001b[38;5;241m.\u001b[39m_obj_with_exclusions, axis\u001b[38;5;241m=\u001b[39m\u001b[38;5;28mself\u001b[39m\u001b[38;5;241m.\u001b[39maxis\n\u001b[1;32m    554\u001b[0m ):\n\u001b[1;32m    555\u001b[0m     \u001b[38;5;66;03m# this setattr is needed for test_transform_lambda_with_datetimetz\u001b[39;00m\n\u001b[1;32m    556\u001b[0m     \u001b[38;5;28mobject\u001b[39m\u001b[38;5;241m.\u001b[39m\u001b[38;5;21m__setattr__\u001b[39m(group, \u001b[38;5;124m\"\u001b[39m\u001b[38;5;124mname\u001b[39m\u001b[38;5;124m\"\u001b[39m, name)\n\u001b[0;32m--> 557\u001b[0m     res \u001b[38;5;241m=\u001b[39m \u001b[43mfunc\u001b[49m\u001b[43m(\u001b[49m\u001b[43mgroup\u001b[49m\u001b[43m,\u001b[49m\u001b[43m \u001b[49m\u001b[38;5;241;43m*\u001b[39;49m\u001b[43margs\u001b[49m\u001b[43m,\u001b[49m\u001b[43m \u001b[49m\u001b[38;5;241;43m*\u001b[39;49m\u001b[38;5;241;43m*\u001b[39;49m\u001b[43mkwargs\u001b[49m\u001b[43m)\u001b[49m\n\u001b[1;32m    559\u001b[0m     results\u001b[38;5;241m.\u001b[39mappend(klass(res, index\u001b[38;5;241m=\u001b[39mgroup\u001b[38;5;241m.\u001b[39mindex))\n\u001b[1;32m    561\u001b[0m \u001b[38;5;66;03m# check for empty \"results\" to avoid concat ValueError\u001b[39;00m\n",
      "Cell \u001b[0;32mIn[5], line 52\u001b[0m, in \u001b[0;36mcreate_features.<locals>.<lambda>\u001b[0;34m(x)\u001b[0m\n\u001b[1;32m     48\u001b[0m df[\u001b[38;5;124m\"\u001b[39m\u001b[38;5;124mcgm_lagdiff_3_6\u001b[39m\u001b[38;5;124m\"\u001b[39m] \u001b[38;5;241m=\u001b[39m df[\u001b[38;5;124m\"\u001b[39m\u001b[38;5;124mcgm_lag_3\u001b[39m\u001b[38;5;124m\"\u001b[39m] \u001b[38;5;241m-\u001b[39m df[\u001b[38;5;124m\"\u001b[39m\u001b[38;5;124mcgm_lag_6\u001b[39m\u001b[38;5;124m\"\u001b[39m]\n\u001b[1;32m     49\u001b[0m \u001b[38;5;66;03m# rolling stats\u001b[39;00m\n\u001b[1;32m     50\u001b[0m df[\u001b[38;5;124m\"\u001b[39m\u001b[38;5;124mcgm_rolling_mean\u001b[39m\u001b[38;5;124m\"\u001b[39m] \u001b[38;5;241m=\u001b[39m (\n\u001b[1;32m     51\u001b[0m     df\u001b[38;5;241m.\u001b[39mgroupby(\u001b[38;5;124m\"\u001b[39m\u001b[38;5;124mparticipant_id\u001b[39m\u001b[38;5;124m\"\u001b[39m)[\u001b[38;5;124m\"\u001b[39m\u001b[38;5;124mcgm_glucose\u001b[39m\u001b[38;5;124m\"\u001b[39m]\n\u001b[0;32m---> 52\u001b[0m       \u001b[38;5;241m.\u001b[39mtransform(\u001b[38;5;28;01mlambda\u001b[39;00m x: \u001b[43mx\u001b[49m\u001b[38;5;241;43m.\u001b[39;49m\u001b[43mshift\u001b[49m\u001b[43m(\u001b[49m\u001b[38;5;241;43m1\u001b[39;49m\u001b[43m)\u001b[49m\u001b[38;5;241;43m.\u001b[39;49m\u001b[43mrolling\u001b[49m\u001b[43m(\u001b[49m\u001b[43mROLLING_WINDOW\u001b[49m\u001b[43m)\u001b[49m\u001b[38;5;241;43m.\u001b[39;49m\u001b[43mmean\u001b[49m\u001b[43m(\u001b[49m\u001b[43m)\u001b[49m)\n\u001b[1;32m     53\u001b[0m )\n\u001b[1;32m     54\u001b[0m df[\u001b[38;5;124m\"\u001b[39m\u001b[38;5;124mcgm_rolling_std\u001b[39m\u001b[38;5;124m\"\u001b[39m] \u001b[38;5;241m=\u001b[39m (\n\u001b[1;32m     55\u001b[0m     df\u001b[38;5;241m.\u001b[39mgroupby(\u001b[38;5;124m\"\u001b[39m\u001b[38;5;124mparticipant_id\u001b[39m\u001b[38;5;124m\"\u001b[39m)[\u001b[38;5;124m\"\u001b[39m\u001b[38;5;124mcgm_glucose\u001b[39m\u001b[38;5;124m\"\u001b[39m]\n\u001b[1;32m     56\u001b[0m       \u001b[38;5;241m.\u001b[39mtransform(\u001b[38;5;28;01mlambda\u001b[39;00m x: x\u001b[38;5;241m.\u001b[39mshift(\u001b[38;5;241m1\u001b[39m)\u001b[38;5;241m.\u001b[39mrolling(ROLLING_WINDOW)\u001b[38;5;241m.\u001b[39mstd())\n\u001b[1;32m     57\u001b[0m )\n\u001b[1;32m     58\u001b[0m \u001b[38;5;28;01mreturn\u001b[39;00m df\n",
      "File \u001b[0;32m~/miniconda3/envs/mambatf/lib/python3.10/site-packages/pandas/core/window/rolling.py:2259\u001b[0m, in \u001b[0;36mRolling.mean\u001b[0;34m(self, numeric_only, engine, engine_kwargs)\u001b[0m\n\u001b[1;32m   2216\u001b[0m \u001b[38;5;129m@doc\u001b[39m(\n\u001b[1;32m   2217\u001b[0m     template_header,\n\u001b[1;32m   2218\u001b[0m     create_section_header(\u001b[38;5;124m\"\u001b[39m\u001b[38;5;124mParameters\u001b[39m\u001b[38;5;124m\"\u001b[39m),\n\u001b[0;32m   (...)\u001b[0m\n\u001b[1;32m   2257\u001b[0m     engine_kwargs: \u001b[38;5;28mdict\u001b[39m[\u001b[38;5;28mstr\u001b[39m, \u001b[38;5;28mbool\u001b[39m] \u001b[38;5;241m|\u001b[39m \u001b[38;5;28;01mNone\u001b[39;00m \u001b[38;5;241m=\u001b[39m \u001b[38;5;28;01mNone\u001b[39;00m,\n\u001b[1;32m   2258\u001b[0m ):\n\u001b[0;32m-> 2259\u001b[0m     \u001b[38;5;28;01mreturn\u001b[39;00m \u001b[38;5;28;43msuper\u001b[39;49m\u001b[43m(\u001b[49m\u001b[43m)\u001b[49m\u001b[38;5;241;43m.\u001b[39;49m\u001b[43mmean\u001b[49m\u001b[43m(\u001b[49m\n\u001b[1;32m   2260\u001b[0m \u001b[43m        \u001b[49m\u001b[43mnumeric_only\u001b[49m\u001b[38;5;241;43m=\u001b[39;49m\u001b[43mnumeric_only\u001b[49m\u001b[43m,\u001b[49m\n\u001b[1;32m   2261\u001b[0m \u001b[43m        \u001b[49m\u001b[43mengine\u001b[49m\u001b[38;5;241;43m=\u001b[39;49m\u001b[43mengine\u001b[49m\u001b[43m,\u001b[49m\n\u001b[1;32m   2262\u001b[0m \u001b[43m        \u001b[49m\u001b[43mengine_kwargs\u001b[49m\u001b[38;5;241;43m=\u001b[39;49m\u001b[43mengine_kwargs\u001b[49m\u001b[43m,\u001b[49m\n\u001b[1;32m   2263\u001b[0m \u001b[43m    \u001b[49m\u001b[43m)\u001b[49m\n",
      "File \u001b[0;32m~/miniconda3/envs/mambatf/lib/python3.10/site-packages/pandas/core/window/rolling.py:1625\u001b[0m, in \u001b[0;36mRollingAndExpandingMixin.mean\u001b[0;34m(self, numeric_only, engine, engine_kwargs)\u001b[0m\n\u001b[1;32m   1623\u001b[0m         \u001b[38;5;28;01mreturn\u001b[39;00m \u001b[38;5;28mself\u001b[39m\u001b[38;5;241m.\u001b[39m_numba_apply(sliding_mean, engine_kwargs)\n\u001b[1;32m   1624\u001b[0m window_func \u001b[38;5;241m=\u001b[39m window_aggregations\u001b[38;5;241m.\u001b[39mroll_mean\n\u001b[0;32m-> 1625\u001b[0m \u001b[38;5;28;01mreturn\u001b[39;00m \u001b[38;5;28;43mself\u001b[39;49m\u001b[38;5;241;43m.\u001b[39;49m\u001b[43m_apply\u001b[49m\u001b[43m(\u001b[49m\u001b[43mwindow_func\u001b[49m\u001b[43m,\u001b[49m\u001b[43m \u001b[49m\u001b[43mname\u001b[49m\u001b[38;5;241;43m=\u001b[39;49m\u001b[38;5;124;43m\"\u001b[39;49m\u001b[38;5;124;43mmean\u001b[39;49m\u001b[38;5;124;43m\"\u001b[39;49m\u001b[43m,\u001b[49m\u001b[43m \u001b[49m\u001b[43mnumeric_only\u001b[49m\u001b[38;5;241;43m=\u001b[39;49m\u001b[43mnumeric_only\u001b[49m\u001b[43m)\u001b[49m\n",
      "File \u001b[0;32m~/miniconda3/envs/mambatf/lib/python3.10/site-packages/pandas/core/window/rolling.py:619\u001b[0m, in \u001b[0;36mBaseWindow._apply\u001b[0;34m(self, func, name, numeric_only, numba_args, **kwargs)\u001b[0m\n\u001b[1;32m    616\u001b[0m     \u001b[38;5;28;01mreturn\u001b[39;00m result\n\u001b[1;32m    618\u001b[0m \u001b[38;5;28;01mif\u001b[39;00m \u001b[38;5;28mself\u001b[39m\u001b[38;5;241m.\u001b[39mmethod \u001b[38;5;241m==\u001b[39m \u001b[38;5;124m\"\u001b[39m\u001b[38;5;124msingle\u001b[39m\u001b[38;5;124m\"\u001b[39m:\n\u001b[0;32m--> 619\u001b[0m     \u001b[38;5;28;01mreturn\u001b[39;00m \u001b[38;5;28;43mself\u001b[39;49m\u001b[38;5;241;43m.\u001b[39;49m\u001b[43m_apply_columnwise\u001b[49m\u001b[43m(\u001b[49m\u001b[43mhomogeneous_func\u001b[49m\u001b[43m,\u001b[49m\u001b[43m \u001b[49m\u001b[43mname\u001b[49m\u001b[43m,\u001b[49m\u001b[43m \u001b[49m\u001b[43mnumeric_only\u001b[49m\u001b[43m)\u001b[49m\n\u001b[1;32m    620\u001b[0m \u001b[38;5;28;01melse\u001b[39;00m:\n\u001b[1;32m    621\u001b[0m     \u001b[38;5;28;01mreturn\u001b[39;00m \u001b[38;5;28mself\u001b[39m\u001b[38;5;241m.\u001b[39m_apply_tablewise(homogeneous_func, name, numeric_only)\n",
      "File \u001b[0;32m~/miniconda3/envs/mambatf/lib/python3.10/site-packages/pandas/core/window/rolling.py:472\u001b[0m, in \u001b[0;36mBaseWindow._apply_columnwise\u001b[0;34m(self, homogeneous_func, name, numeric_only)\u001b[0m\n\u001b[1;32m    470\u001b[0m \u001b[38;5;28mself\u001b[39m\u001b[38;5;241m.\u001b[39m_validate_numeric_only(name, numeric_only)\n\u001b[1;32m    471\u001b[0m \u001b[38;5;28;01mif\u001b[39;00m \u001b[38;5;28mself\u001b[39m\u001b[38;5;241m.\u001b[39m_selected_obj\u001b[38;5;241m.\u001b[39mndim \u001b[38;5;241m==\u001b[39m \u001b[38;5;241m1\u001b[39m:\n\u001b[0;32m--> 472\u001b[0m     \u001b[38;5;28;01mreturn\u001b[39;00m \u001b[38;5;28;43mself\u001b[39;49m\u001b[38;5;241;43m.\u001b[39;49m\u001b[43m_apply_series\u001b[49m\u001b[43m(\u001b[49m\u001b[43mhomogeneous_func\u001b[49m\u001b[43m,\u001b[49m\u001b[43m \u001b[49m\u001b[43mname\u001b[49m\u001b[43m)\u001b[49m\n\u001b[1;32m    474\u001b[0m obj \u001b[38;5;241m=\u001b[39m \u001b[38;5;28mself\u001b[39m\u001b[38;5;241m.\u001b[39m_create_data(\u001b[38;5;28mself\u001b[39m\u001b[38;5;241m.\u001b[39m_selected_obj, numeric_only)\n\u001b[1;32m    475\u001b[0m \u001b[38;5;28;01mif\u001b[39;00m name \u001b[38;5;241m==\u001b[39m \u001b[38;5;124m\"\u001b[39m\u001b[38;5;124mcount\u001b[39m\u001b[38;5;124m\"\u001b[39m:\n\u001b[1;32m    476\u001b[0m     \u001b[38;5;66;03m# GH 12541: Special case for count where we support date-like types\u001b[39;00m\n",
      "File \u001b[0;32m~/miniconda3/envs/mambatf/lib/python3.10/site-packages/pandas/core/window/rolling.py:456\u001b[0m, in \u001b[0;36mBaseWindow._apply_series\u001b[0;34m(self, homogeneous_func, name)\u001b[0m\n\u001b[1;32m    453\u001b[0m \u001b[38;5;28;01mexcept\u001b[39;00m (\u001b[38;5;167;01mTypeError\u001b[39;00m, \u001b[38;5;167;01mNotImplementedError\u001b[39;00m) \u001b[38;5;28;01mas\u001b[39;00m err:\n\u001b[1;32m    454\u001b[0m     \u001b[38;5;28;01mraise\u001b[39;00m DataError(\u001b[38;5;124m\"\u001b[39m\u001b[38;5;124mNo numeric types to aggregate\u001b[39m\u001b[38;5;124m\"\u001b[39m) \u001b[38;5;28;01mfrom\u001b[39;00m\u001b[38;5;250m \u001b[39m\u001b[38;5;21;01merr\u001b[39;00m\n\u001b[0;32m--> 456\u001b[0m result \u001b[38;5;241m=\u001b[39m \u001b[43mhomogeneous_func\u001b[49m\u001b[43m(\u001b[49m\u001b[43mvalues\u001b[49m\u001b[43m)\u001b[49m\n\u001b[1;32m    457\u001b[0m index \u001b[38;5;241m=\u001b[39m \u001b[38;5;28mself\u001b[39m\u001b[38;5;241m.\u001b[39m_slice_axis_for_step(obj\u001b[38;5;241m.\u001b[39mindex, result)\n\u001b[1;32m    458\u001b[0m \u001b[38;5;28;01mreturn\u001b[39;00m obj\u001b[38;5;241m.\u001b[39m_constructor(result, index\u001b[38;5;241m=\u001b[39mindex, name\u001b[38;5;241m=\u001b[39mobj\u001b[38;5;241m.\u001b[39mname)\n",
      "File \u001b[0;32m~/miniconda3/envs/mambatf/lib/python3.10/site-packages/pandas/core/window/rolling.py:614\u001b[0m, in \u001b[0;36mBaseWindow._apply.<locals>.homogeneous_func\u001b[0;34m(values)\u001b[0m\n\u001b[1;32m    611\u001b[0m     \u001b[38;5;28;01mreturn\u001b[39;00m func(x, start, end, min_periods, \u001b[38;5;241m*\u001b[39mnumba_args)\n\u001b[1;32m    613\u001b[0m \u001b[38;5;28;01mwith\u001b[39;00m np\u001b[38;5;241m.\u001b[39merrstate(\u001b[38;5;28mall\u001b[39m\u001b[38;5;241m=\u001b[39m\u001b[38;5;124m\"\u001b[39m\u001b[38;5;124mignore\u001b[39m\u001b[38;5;124m\"\u001b[39m):\n\u001b[0;32m--> 614\u001b[0m     result \u001b[38;5;241m=\u001b[39m \u001b[43mcalc\u001b[49m\u001b[43m(\u001b[49m\u001b[43mvalues\u001b[49m\u001b[43m)\u001b[49m\n\u001b[1;32m    616\u001b[0m \u001b[38;5;28;01mreturn\u001b[39;00m result\n",
      "File \u001b[0;32m~/miniconda3/envs/mambatf/lib/python3.10/site-packages/pandas/core/window/rolling.py:602\u001b[0m, in \u001b[0;36mBaseWindow._apply.<locals>.homogeneous_func.<locals>.calc\u001b[0;34m(x)\u001b[0m\n\u001b[1;32m    601\u001b[0m \u001b[38;5;28;01mdef\u001b[39;00m\u001b[38;5;250m \u001b[39m\u001b[38;5;21mcalc\u001b[39m(x):\n\u001b[0;32m--> 602\u001b[0m     start, end \u001b[38;5;241m=\u001b[39m \u001b[43mwindow_indexer\u001b[49m\u001b[38;5;241;43m.\u001b[39;49m\u001b[43mget_window_bounds\u001b[49m\u001b[43m(\u001b[49m\n\u001b[1;32m    603\u001b[0m \u001b[43m        \u001b[49m\u001b[43mnum_values\u001b[49m\u001b[38;5;241;43m=\u001b[39;49m\u001b[38;5;28;43mlen\u001b[39;49m\u001b[43m(\u001b[49m\u001b[43mx\u001b[49m\u001b[43m)\u001b[49m\u001b[43m,\u001b[49m\n\u001b[1;32m    604\u001b[0m \u001b[43m        \u001b[49m\u001b[43mmin_periods\u001b[49m\u001b[38;5;241;43m=\u001b[39;49m\u001b[43mmin_periods\u001b[49m\u001b[43m,\u001b[49m\n\u001b[1;32m    605\u001b[0m \u001b[43m        \u001b[49m\u001b[43mcenter\u001b[49m\u001b[38;5;241;43m=\u001b[39;49m\u001b[38;5;28;43mself\u001b[39;49m\u001b[38;5;241;43m.\u001b[39;49m\u001b[43mcenter\u001b[49m\u001b[43m,\u001b[49m\n\u001b[1;32m    606\u001b[0m \u001b[43m        \u001b[49m\u001b[43mclosed\u001b[49m\u001b[38;5;241;43m=\u001b[39;49m\u001b[38;5;28;43mself\u001b[39;49m\u001b[38;5;241;43m.\u001b[39;49m\u001b[43mclosed\u001b[49m\u001b[43m,\u001b[49m\n\u001b[1;32m    607\u001b[0m \u001b[43m        \u001b[49m\u001b[43mstep\u001b[49m\u001b[38;5;241;43m=\u001b[39;49m\u001b[38;5;28;43mself\u001b[39;49m\u001b[38;5;241;43m.\u001b[39;49m\u001b[43mstep\u001b[49m\u001b[43m,\u001b[49m\n\u001b[1;32m    608\u001b[0m \u001b[43m    \u001b[49m\u001b[43m)\u001b[49m\n\u001b[1;32m    609\u001b[0m     \u001b[38;5;28mself\u001b[39m\u001b[38;5;241m.\u001b[39m_check_window_bounds(start, end, \u001b[38;5;28mlen\u001b[39m(x))\n\u001b[1;32m    611\u001b[0m     \u001b[38;5;28;01mreturn\u001b[39;00m func(x, start, end, min_periods, \u001b[38;5;241m*\u001b[39mnumba_args)\n",
      "File \u001b[0;32m~/miniconda3/envs/mambatf/lib/python3.10/site-packages/pandas/core/indexers/objects.py:117\u001b[0m, in \u001b[0;36mFixedWindowIndexer.get_window_bounds\u001b[0;34m(self, num_values, min_periods, center, closed, step)\u001b[0m\n\u001b[1;32m    114\u001b[0m \u001b[38;5;28;01mif\u001b[39;00m closed \u001b[38;5;129;01min\u001b[39;00m [\u001b[38;5;124m\"\u001b[39m\u001b[38;5;124mleft\u001b[39m\u001b[38;5;124m\"\u001b[39m, \u001b[38;5;124m\"\u001b[39m\u001b[38;5;124mneither\u001b[39m\u001b[38;5;124m\"\u001b[39m]:\n\u001b[1;32m    115\u001b[0m     end \u001b[38;5;241m-\u001b[39m\u001b[38;5;241m=\u001b[39m \u001b[38;5;241m1\u001b[39m\n\u001b[0;32m--> 117\u001b[0m end \u001b[38;5;241m=\u001b[39m \u001b[43mnp\u001b[49m\u001b[38;5;241;43m.\u001b[39;49m\u001b[43mclip\u001b[49m\u001b[43m(\u001b[49m\u001b[43mend\u001b[49m\u001b[43m,\u001b[49m\u001b[43m \u001b[49m\u001b[38;5;241;43m0\u001b[39;49m\u001b[43m,\u001b[49m\u001b[43m \u001b[49m\u001b[43mnum_values\u001b[49m\u001b[43m)\u001b[49m\n\u001b[1;32m    118\u001b[0m start \u001b[38;5;241m=\u001b[39m np\u001b[38;5;241m.\u001b[39mclip(start, \u001b[38;5;241m0\u001b[39m, num_values)\n\u001b[1;32m    120\u001b[0m \u001b[38;5;28;01mreturn\u001b[39;00m start, end\n",
      "File \u001b[0;32m~/miniconda3/envs/mambatf/lib/python3.10/site-packages/numpy/_core/fromnumeric.py:2330\u001b[0m, in \u001b[0;36mclip\u001b[0;34m(a, a_min, a_max, out, min, max, **kwargs)\u001b[0m\n\u001b[1;32m   2326\u001b[0m \u001b[38;5;28;01melif\u001b[39;00m \u001b[38;5;28mmin\u001b[39m \u001b[38;5;129;01mis\u001b[39;00m \u001b[38;5;129;01mnot\u001b[39;00m np\u001b[38;5;241m.\u001b[39m_NoValue \u001b[38;5;129;01mor\u001b[39;00m \u001b[38;5;28mmax\u001b[39m \u001b[38;5;129;01mis\u001b[39;00m \u001b[38;5;129;01mnot\u001b[39;00m np\u001b[38;5;241m.\u001b[39m_NoValue:\n\u001b[1;32m   2327\u001b[0m     \u001b[38;5;28;01mraise\u001b[39;00m \u001b[38;5;167;01mValueError\u001b[39;00m(\u001b[38;5;124m\"\u001b[39m\u001b[38;5;124mPassing `min` or `max` keyword argument when \u001b[39m\u001b[38;5;124m\"\u001b[39m\n\u001b[1;32m   2328\u001b[0m                      \u001b[38;5;124m\"\u001b[39m\u001b[38;5;124m`a_min` and `a_max` are provided is forbidden.\u001b[39m\u001b[38;5;124m\"\u001b[39m)\n\u001b[0;32m-> 2330\u001b[0m \u001b[38;5;28;01mreturn\u001b[39;00m \u001b[43m_wrapfunc\u001b[49m\u001b[43m(\u001b[49m\u001b[43ma\u001b[49m\u001b[43m,\u001b[49m\u001b[43m \u001b[49m\u001b[38;5;124;43m'\u001b[39;49m\u001b[38;5;124;43mclip\u001b[39;49m\u001b[38;5;124;43m'\u001b[39;49m\u001b[43m,\u001b[49m\u001b[43m \u001b[49m\u001b[43ma_min\u001b[49m\u001b[43m,\u001b[49m\u001b[43m \u001b[49m\u001b[43ma_max\u001b[49m\u001b[43m,\u001b[49m\u001b[43m \u001b[49m\u001b[43mout\u001b[49m\u001b[38;5;241;43m=\u001b[39;49m\u001b[43mout\u001b[49m\u001b[43m,\u001b[49m\u001b[43m \u001b[49m\u001b[38;5;241;43m*\u001b[39;49m\u001b[38;5;241;43m*\u001b[39;49m\u001b[43mkwargs\u001b[49m\u001b[43m)\u001b[49m\n",
      "File \u001b[0;32m~/miniconda3/envs/mambatf/lib/python3.10/site-packages/numpy/_core/fromnumeric.py:57\u001b[0m, in \u001b[0;36m_wrapfunc\u001b[0;34m(obj, method, *args, **kwds)\u001b[0m\n\u001b[1;32m     54\u001b[0m     \u001b[38;5;28;01mreturn\u001b[39;00m _wrapit(obj, method, \u001b[38;5;241m*\u001b[39margs, \u001b[38;5;241m*\u001b[39m\u001b[38;5;241m*\u001b[39mkwds)\n\u001b[1;32m     56\u001b[0m \u001b[38;5;28;01mtry\u001b[39;00m:\n\u001b[0;32m---> 57\u001b[0m     \u001b[38;5;28;01mreturn\u001b[39;00m \u001b[43mbound\u001b[49m\u001b[43m(\u001b[49m\u001b[38;5;241;43m*\u001b[39;49m\u001b[43margs\u001b[49m\u001b[43m,\u001b[49m\u001b[43m \u001b[49m\u001b[38;5;241;43m*\u001b[39;49m\u001b[38;5;241;43m*\u001b[39;49m\u001b[43mkwds\u001b[49m\u001b[43m)\u001b[49m\n\u001b[1;32m     58\u001b[0m \u001b[38;5;28;01mexcept\u001b[39;00m \u001b[38;5;167;01mTypeError\u001b[39;00m:\n\u001b[1;32m     59\u001b[0m     \u001b[38;5;66;03m# A TypeError occurs if the object does have such a method in its\u001b[39;00m\n\u001b[1;32m     60\u001b[0m     \u001b[38;5;66;03m# class, but its signature is not identical to that of NumPy's. This\u001b[39;00m\n\u001b[0;32m   (...)\u001b[0m\n\u001b[1;32m     64\u001b[0m     \u001b[38;5;66;03m# Call _wrapit from within the except clause to ensure a potential\u001b[39;00m\n\u001b[1;32m     65\u001b[0m     \u001b[38;5;66;03m# exception has a traceback chain.\u001b[39;00m\n\u001b[1;32m     66\u001b[0m     \u001b[38;5;28;01mreturn\u001b[39;00m _wrapit(obj, method, \u001b[38;5;241m*\u001b[39margs, \u001b[38;5;241m*\u001b[39m\u001b[38;5;241m*\u001b[39mkwds)\n",
      "File \u001b[0;32m~/miniconda3/envs/mambatf/lib/python3.10/site-packages/numpy/_core/_methods.py:116\u001b[0m, in \u001b[0;36m_clip\u001b[0;34m(a, min, max, out, **kwargs)\u001b[0m\n\u001b[1;32m    114\u001b[0m     \u001b[38;5;28;01mreturn\u001b[39;00m um\u001b[38;5;241m.\u001b[39mmaximum(a, \u001b[38;5;28mmin\u001b[39m, out\u001b[38;5;241m=\u001b[39mout, \u001b[38;5;241m*\u001b[39m\u001b[38;5;241m*\u001b[39mkwargs)\n\u001b[1;32m    115\u001b[0m \u001b[38;5;28;01melse\u001b[39;00m:\n\u001b[0;32m--> 116\u001b[0m     \u001b[38;5;28;01mreturn\u001b[39;00m \u001b[43mum\u001b[49m\u001b[38;5;241;43m.\u001b[39;49m\u001b[43mclip\u001b[49m\u001b[43m(\u001b[49m\u001b[43ma\u001b[49m\u001b[43m,\u001b[49m\u001b[43m \u001b[49m\u001b[38;5;28;43mmin\u001b[39;49m\u001b[43m,\u001b[49m\u001b[43m \u001b[49m\u001b[38;5;28;43mmax\u001b[39;49m\u001b[43m,\u001b[49m\u001b[43m \u001b[49m\u001b[43mout\u001b[49m\u001b[38;5;241;43m=\u001b[39;49m\u001b[43mout\u001b[49m\u001b[43m,\u001b[49m\u001b[43m \u001b[49m\u001b[38;5;241;43m*\u001b[39;49m\u001b[38;5;241;43m*\u001b[39;49m\u001b[43mkwargs\u001b[49m\u001b[43m)\u001b[49m\n",
      "\u001b[0;31mKeyboardInterrupt\u001b[0m: "
     ]
    }
   ],
   "source": [
    "import numpy as np\n",
    "from sklearn.metrics import mean_absolute_error, mean_squared_error\n",
    "\n",
    "# SMAPE helper\n",
    "def smape(y_true, y_pred):\n",
    "    denom = np.abs(y_true) + np.abs(y_pred)\n",
    "    mask = denom != 0\n",
    "    return 100 * np.mean(2 * np.abs(y_pred[mask] - y_true[mask]) / denom[mask])\n",
    "\n",
    "# After calling your training function:\n",
    "# models, forecast = train_and_direct_forecast(train, test)\n",
    "\n",
    "# 1) Recreate categorical levels\n",
    "categorical_cols = [\"participant_id\", \"clinical_site\", \"study_group\", \"sleep_stage\"]\n",
    "train_feat = create_features(train.copy())\n",
    "for c in categorical_cols:\n",
    "    train_feat[c] = train_feat[c].astype(\"category\")\n",
    "cat_levels = {c: train_feat[c].cat.categories for c in categorical_cols}\n",
    "\n",
    "# 2) Define FEATURES and HORIZON\n",
    "FEATURES = [\n",
    "    \"age\",\"participant_id\",\"clinical_site\",\"study_group\",\n",
    "    \"minute_of_day\",\"tod_sin\",\"tod_cos\",\"activity_steps\",\"calories_value\",\n",
    "    \"heartrate\",\"oxygen_saturation\",\"respiration_rate\",\"stress_level\",\"predmeal_flag\",\n",
    "    \"sleep_stage\",\n",
    "] + [f\"cgm_lag_{lag}\" for lag in LAGS] + [f\"cgm_diff_lag_{lag}\" for lag in LAGS] + [\n",
    "    \"cgm_lagdiff_1_3\",\"cgm_lagdiff_3_6\",\"cgm_rolling_mean\",\"cgm_rolling_std\",\n",
    "]\n",
    "HORIZON = 12\n",
    "\n",
    "# 3) Collect all true and predicted values from validation\n",
    "all_true = []\n",
    "all_pred = []\n",
    "for h, model in models.items():\n",
    "    df_h = create_features(train.copy())\n",
    "    df_h[\"target_h\"] = df_h.groupby(\"participant_id\")[\"cgm_glucose\"].shift(-h)\n",
    "    df_h = df_h.dropna(subset=FEATURES + [\"target_h\"])\n",
    "    \n",
    "    _, val_idx = time_series_split(df_h, \"participant_id\", \"ds\", HORIZON)\n",
    "    X_val = df_h.loc[val_idx, FEATURES].copy()\n",
    "    y_true = df_h.loc[val_idx, \"target_h\"].values\n",
    "    \n",
    "    for c, cats in cat_levels.items():\n",
    "        X_val[c] = pd.Categorical(X_val[c], categories=cats)\n",
    "    \n",
    "    y_pred = model.predict(X_val)\n",
    "    all_true.append(y_true)\n",
    "    all_pred.append(y_pred)\n",
    "\n",
    "# 4) Flatten and compute pooled metrics\n",
    "y_true_all = np.concatenate(all_true)\n",
    "y_pred_all = np.concatenate(all_pred)\n",
    "\n",
    "mae_final   = mean_absolute_error(y_true_all, y_pred_all)\n",
    "rmse_final  = np.sqrt(mean_squared_error(y_true_all, y_pred_all))\n",
    "smape_final = smape(y_true_all, y_pred_all)\n",
    "\n",
    "print(f\"Final MAE:   {mae_final:.3f}\")\n",
    "print(f\"Final RMSE:  {rmse_final:.3f}\")\n",
    "print(f\"Final SMAPE: {smape_final:.2f}%\")\n"
   ]
  },
  {
   "cell_type": "code",
   "execution_count": 41,
   "id": "bff02682",
   "metadata": {},
   "outputs": [
    {
     "data": {
      "text/plain": [
       "[array([132., 132., 131., 131., 130., 129., 129., 128., 135., 146., 145.,\n",
       "        145.]),\n",
       " array([132., 132., 131., 131., 130., 129., 129., 128., 135., 146., 145.,\n",
       "        145.]),\n",
       " array([132., 132., 131., 131., 130., 129., 129., 128., 135., 146., 145.,\n",
       "        145.]),\n",
       " array([132., 132., 131., 131., 130., 129., 129., 128., 135., 146., 145.,\n",
       "        145.]),\n",
       " array([132., 132., 131., 131., 130., 129., 129., 128., 135., 146., 145.,\n",
       "        145.]),\n",
       " array([132., 132., 131., 131., 130., 129., 129., 128., 135., 146., 145.,\n",
       "        145.]),\n",
       " array([132., 132., 131., 131., 130., 129., 129., 128., 135., 146., 145.,\n",
       "        145.]),\n",
       " array([132., 132., 131., 131., 130., 129., 129., 128., 135., 146., 145.,\n",
       "        145.]),\n",
       " array([132., 132., 131., 131., 130., 129., 129., 128., 135., 146., 145.,\n",
       "        145.]),\n",
       " array([132., 132., 131., 131., 130., 129., 129., 128., 135., 146., 145.,\n",
       "        145.]),\n",
       " array([132., 132., 131., 131., 130., 129., 129., 128., 135., 146., 145.,\n",
       "        145.]),\n",
       " array([132., 132., 131., 131., 130., 129., 129., 128., 135., 146., 145.,\n",
       "        145.])]"
      ]
     },
     "execution_count": 41,
     "metadata": {},
     "output_type": "execute_result"
    }
   ],
   "source": [
    "all_true"
   ]
  },
  {
   "cell_type": "code",
   "execution_count": null,
   "id": "10cbe61b",
   "metadata": {},
   "outputs": [
    {
     "data": {
      "text/plain": [
       "6.047237929188614"
      ]
     },
     "execution_count": 37,
     "metadata": {},
     "output_type": "execute_result"
    }
   ],
   "source": [
    "\n",
    "mean_absolute_error(all_true[5], all_pred[5])  # Example for first horizon"
   ]
  },
  {
   "cell_type": "code",
   "execution_count": 30,
   "id": "b1ab64f5",
   "metadata": {},
   "outputs": [
    {
     "data": {
      "text/plain": [
       "[array([132., 132., 131., 131., 130., 129., 129., 128., 135., 146., 145.,\n",
       "        145.]),\n",
       " array([132., 132., 131., 131., 130., 129., 129., 128., 135., 146., 145.,\n",
       "        145.]),\n",
       " array([132., 132., 131., 131., 130., 129., 129., 128., 135., 146., 145.,\n",
       "        145.]),\n",
       " array([132., 132., 131., 131., 130., 129., 129., 128., 135., 146., 145.,\n",
       "        145.]),\n",
       " array([132., 132., 131., 131., 130., 129., 129., 128., 135., 146., 145.,\n",
       "        145.]),\n",
       " array([132., 132., 131., 131., 130., 129., 129., 128., 135., 146., 145.,\n",
       "        145.]),\n",
       " array([132., 132., 131., 131., 130., 129., 129., 128., 135., 146., 145.,\n",
       "        145.]),\n",
       " array([132., 132., 131., 131., 130., 129., 129., 128., 135., 146., 145.,\n",
       "        145.]),\n",
       " array([132., 132., 131., 131., 130., 129., 129., 128., 135., 146., 145.,\n",
       "        145.]),\n",
       " array([132., 132., 131., 131., 130., 129., 129., 128., 135., 146., 145.,\n",
       "        145.]),\n",
       " array([132., 132., 131., 131., 130., 129., 129., 128., 135., 146., 145.,\n",
       "        145.]),\n",
       " array([132., 132., 131., 131., 130., 129., 129., 128., 135., 146., 145.,\n",
       "        145.])]"
      ]
     },
     "execution_count": 30,
     "metadata": {},
     "output_type": "execute_result"
    }
   ],
   "source": [
    "all_true"
   ]
  },
  {
   "cell_type": "code",
   "execution_count": 31,
   "id": "470dc602",
   "metadata": {},
   "outputs": [
    {
     "data": {
      "text/plain": [
       "[array([134.77382528, 133.4189021 , 133.33526597, 132.37428059,\n",
       "        132.5368327 , 131.57584732, 131.07391176, 131.18415089,\n",
       "        130.22316551, 138.87583147, 150.2125759 , 142.15749683]),\n",
       " array([135.54047165, 134.1244634 , 133.66754693, 133.31522826,\n",
       "        132.56151697, 132.75307763, 131.99936634, 131.47346478,\n",
       "        131.64593656, 131.1942349 , 139.0044539 , 150.89203303]),\n",
       " array([135.30110587, 135.78093301, 135.30110587, 134.27619986,\n",
       "        134.19349531, 134.19349531, 133.65850483, 133.65850483,\n",
       "        133.32708349, 132.85005558, 132.85005558, 138.383407  ]),\n",
       " array([135.87091599, 135.87091599, 136.32109182, 135.87091599,\n",
       "        135.02533554, 134.60532545, 134.60532545, 134.06841849,\n",
       "        134.06841849, 134.06841849, 133.885947  , 133.56181035]),\n",
       " array([135.9738541 , 135.9738541 , 135.9738541 , 136.40847367,\n",
       "        135.9738541 , 135.9738541 , 135.24393029, 135.24393029,\n",
       "        134.76517433, 134.76517433, 134.12278638, 133.72761444]),\n",
       " array([135.31702578, 135.31702578, 135.31702578, 135.31702578,\n",
       "        135.33250982, 135.31702578, 134.44840507, 134.43281614,\n",
       "        134.43281614, 134.43281614, 134.43281614, 133.93355639]),\n",
       " array([135.30003538, 134.83316261, 134.83316261, 134.83316261,\n",
       "        134.83316261, 134.99303016, 134.83316261, 133.47018565,\n",
       "        134.18313161, 133.87555961, 133.59343267, 133.28586068]),\n",
       " array([135.67765726, 135.04061853, 135.25297481, 135.25297481,\n",
       "        135.25297481, 134.61593608, 135.65963017, 134.61593608,\n",
       "        134.39749684, 134.82390078, 134.18686205, 134.45684242]),\n",
       " array([136.36717414, 136.36717414, 135.40996371, 135.94881735,\n",
       "        135.94881735, 135.94881735, 134.99160693, 135.51681664,\n",
       "        134.99160693, 134.66986913, 134.6752391 , 134.26789407]),\n",
       " array([135.876174  , 135.876174  , 135.876174  , 135.21272612,\n",
       "        135.46432218, 135.46432218, 135.46432218, 134.8008743 ,\n",
       "        135.95083925, 134.8008743 , 134.8008743 , 134.72799394]),\n",
       " array([136.06581694, 135.78798972, 135.78798972, 135.78798972,\n",
       "        135.53653155, 135.40592957, 135.40592957, 135.40592957,\n",
       "        135.15447141, 136.06581694, 135.15447141, 135.15447141]),\n",
       " array([135.54502508, 135.54502508, 135.23121253, 135.23121253,\n",
       "        135.23121253, 134.72997868, 134.91496518, 134.91496518,\n",
       "        134.91496518, 134.41373133, 135.54502508, 134.41373133])]"
      ]
     },
     "execution_count": 31,
     "metadata": {},
     "output_type": "execute_result"
    }
   ],
   "source": [
    "all_pred"
   ]
  },
  {
   "cell_type": "code",
   "execution_count": null,
   "id": "d6f741ee",
   "metadata": {},
   "outputs": [
    {
     "name": "stdout",
     "output_type": "stream",
     "text": [
      "   horizon       MAE      RMSE  SMAPE (%)\n",
      "0        1  3.185758  3.575176   2.336300\n",
      "1        2  4.456879  5.570424   3.267372\n",
      "2        3  5.662729  6.581692   4.173450\n",
      "3        4  6.304471  7.097604   4.644702\n",
      "4        5  6.532071  7.262997   4.812305\n",
      "5        6  6.047238  6.873490   4.454516\n",
      "6        7  5.999257  6.991233   4.419611\n",
      "7        8  6.041967  6.828557   4.450451\n",
      "8        9  6.407882  7.119867   4.720003\n",
      "9       10  6.221349  6.874591   4.582491\n",
      "10      11  6.080318  6.688815   4.478426\n",
      "11      12  5.921345  6.706073   4.361216\n",
      "12    mean  5.738439  6.514210   4.225070\n",
      "\n",
      "Overall: {'MAE': 5.738438558837852, 'RMSE': np.float64(6.587063417320037), 'SMAPE (%)': np.float64(4.225070252173662)}\n"
     ]
    }
   ],
   "source": [
    "# import numpy as np\n",
    "# import pandas as pd\n",
    "# from sklearn.metrics import mean_absolute_error, mean_squared_error\n",
    "\n",
    "# # 1) Re-build the exact category levels you used for training\n",
    "# categorical_cols = [\"participant_id\", \"clinical_site\", \"study_group\", \"sleep_stage\"]\n",
    "# train_feat = create_features(train.copy())\n",
    "# for c in categorical_cols:\n",
    "#     if c in train_feat.columns:\n",
    "#         train_feat[c] = train_feat[c].astype(\"category\")\n",
    "# # capture those category levels\n",
    "# cat_levels = {c: train_feat[c].cat.categories for c in categorical_cols}\n",
    "\n",
    "# # 2) Paste in your FEATURES list and HORIZON\n",
    "# FEATURES = [\n",
    "#     \"age\",\"participant_id\",\"clinical_site\",\"study_group\",\n",
    "#     \"minute_of_day\",\"tod_sin\",\"tod_cos\",\"activity_steps\",\"calories_value\",\n",
    "#     \"heartrate\",\"oxygen_saturation\",\"respiration_rate\",\"stress_level\",\"predmeal_flag\",\n",
    "#     \"sleep_stage\",\n",
    "#     *[f\"cgm_lag_{lag}\"       for lag in LAGS],\n",
    "#     *[f\"cgm_diff_lag_{lag}\"  for lag in LAGS],\n",
    "#     \"cgm_lagdiff_1_3\",\"cgm_lagdiff_3_6\",\"cgm_rolling_mean\",\"cgm_rolling_std\",\n",
    "# ]\n",
    "# HORIZON = 12\n",
    "\n",
    "# # 3) SMAPE helper\n",
    "# def smape(y_true, y_pred):\n",
    "#     denom = (np.abs(y_true) + np.abs(y_pred))\n",
    "#     mask  = denom != 0\n",
    "#     return 100 * np.mean(2 * np.abs(y_pred[mask] - y_true[mask]) / denom[mask])\n",
    "\n",
    "# # 4) Loop over each horizon, recast cat dtypes, predict & compute\n",
    "# rows = []\n",
    "# all_true = []\n",
    "# all_pred = []\n",
    "\n",
    "# for h, model in models.items():\n",
    "#     # rebuild df_h & shifted target\n",
    "#     df_h = create_features(train.copy())\n",
    "#     df_h[\"target_h\"] = df_h.groupby(\"participant_id\")[\"cgm_glucose\"].shift(-h)\n",
    "#     df_h = df_h.dropna(subset=FEATURES + [\"target_h\"])\n",
    "    \n",
    "#     # train/val indices\n",
    "#     _, val_idx = time_series_split(df_h, \"participant_id\", \"ds\", HORIZON)\n",
    "#     X_val = df_h.loc[val_idx, FEATURES].copy()\n",
    "#     y_val = df_h.loc[val_idx, \"target_h\"].values\n",
    "    \n",
    "#     # **re-apply the exact same categories** to X_val\n",
    "#     for c, cats in cat_levels.items():\n",
    "#         if c in X_val.columns:\n",
    "#             X_val[c] = pd.Categorical(X_val[c], categories=cats)\n",
    "    \n",
    "#     # predict & metrics\n",
    "#     y_pred = model.predict(X_val)  # now no mismatch error\n",
    "#     rows.append({\n",
    "#         \"horizon\":    h,\n",
    "#         \"MAE\":        mean_absolute_error(y_val, y_pred),\n",
    "#         \"RMSE\":       np.sqrt(mean_squared_error(y_val, y_pred)),\n",
    "#         \"SMAPE (%)\":  smape(y_val, y_pred),\n",
    "#     })\n",
    "#     all_true.append(y_val)\n",
    "#     all_pred.append(y_pred)\n",
    "\n",
    "# # 5) Build & print a DataFrame\n",
    "# metrics_df = pd.DataFrame(rows).sort_values(\"horizon\")\n",
    "# mean_row = {\n",
    "#     \"horizon\":   \"mean\",\n",
    "#     \"MAE\":       metrics_df[\"MAE\"].mean(),\n",
    "#     \"RMSE\":      metrics_df[\"RMSE\"].mean(),\n",
    "#     \"SMAPE (%)\": metrics_df[\"SMAPE (%)\"].mean(),\n",
    "# }\n",
    "# # turn it into a one-row DataFrame…\n",
    "# mean_df = pd.DataFrame([mean_row])\n",
    "# metrics_df = pd.concat([metrics_df, mean_df], ignore_index=True)\n",
    "# print(metrics_df)\n",
    "\n",
    "# # metrics_df = metrics_df.append(mean_row, ignore_index=True)\n",
    "# # print(metrics_df)\n",
    "\n",
    "# # 6) (Optional) overall flattened metrics\n",
    "# y_true_all = np.concatenate(all_true)\n",
    "# y_pred_all = np.concatenate(all_pred)\n",
    "# overall = {\n",
    "#     \"MAE\":       mean_absolute_error(y_true_all, y_pred_all),\n",
    "#     \"RMSE\":      np.sqrt(mean_squared_error(y_true_all, y_pred_all)),\n",
    "#     \"SMAPE (%)\": smape(y_true_all, y_pred_all),\n",
    "# }\n",
    "# print(\"\\nOverall:\", overall)"
   ]
  },
  {
   "cell_type": "code",
   "execution_count": null,
   "id": "74e7ce0a",
   "metadata": {},
   "outputs": [],
   "source": []
  },
  {
   "cell_type": "code",
   "execution_count": null,
   "id": "b58174b1",
   "metadata": {},
   "outputs": [
    {
     "name": "stdout",
     "output_type": "stream",
     "text": [
      "Empty DataFrame\n",
      "Columns: [participant_id, forecast_horizon, pred_cgm, ds_orig, ds_pred, actual]\n",
      "Index: []\n"
     ]
    }
   ],
   "source": [
    "# # 2) attach the prediction timestamps\n",
    "# #    assume `test_df` has your actual CGM series, with columns ['participant_id','ds','cgm_glucose']\n",
    "# last_ds = (\n",
    "#     test\n",
    "#     .groupby(\"participant_id\")[\"ds\"]\n",
    "#     .max()\n",
    "#     .reset_index()\n",
    "#     .rename(columns={\"ds\":\"ds_orig\"})\n",
    "# )\n",
    "# forecast_df = (\n",
    "#     forecast\n",
    "#     .merge(last_ds, on=\"participant_id\")\n",
    "#     .assign(ds_pred=lambda df: df[\"ds_orig\"] + df[\"forecast_horizon\"])\n",
    "# )\n",
    "\n",
    "# # 3) merge preds with the true values\n",
    "# actuals = (\n",
    "#     test\n",
    "#     .rename(columns={\"ds\":\"ds_pred\",\"cgm_glucose\":\"actual\"})\n",
    "#     [[\"participant_id\",\"ds_pred\",\"actual\"]]\n",
    "# )\n",
    "# eval_df = forecast_df.merge(actuals, on=[\"participant_id\",\"ds_pred\"], how=\"inner\")\n",
    "# print(eval_df)\n",
    "\n",
    "# # 4) loop horizons and compute metrics\n",
    "# def smape(y_true, y_pred):\n",
    "#     num = np.abs(y_true - y_pred)\n",
    "#     denom = (np.abs(y_true) + np.abs(y_pred))\n",
    "#     mask = denom != 0\n",
    "#     return 100*np.mean(2*num[mask] / denom[mask])\n",
    "\n",
    "# for h in sorted(eval_df[\"forecast_horizon\"].unique()):\n",
    "#     dfh = eval_df[eval_df[\"forecast_horizon\"]==h]\n",
    "#     y_true = dfh[\"actual\"]\n",
    "#     y_pred = dfh[\"pred_cgm\"]\n",
    "#     mae  = mean_absolute_error(y_true, y_pred)\n",
    "#     rmse = np.sqrt(mean_squared_error(y_true, y_pred))\n",
    "#     sm   = smape(y_true.values, y_pred)\n",
    "#     print(f\"h={h:2d} →  MAE: {mae:.3f},  RMSE: {rmse:.3f},  SMAPE: {sm:.2f}%\")"
   ]
  }
 ],
 "metadata": {
  "kernelspec": {
   "display_name": "mambatf",
   "language": "python",
   "name": "python3"
  },
  "language_info": {
   "codemirror_mode": {
    "name": "ipython",
    "version": 3
   },
   "file_extension": ".py",
   "mimetype": "text/x-python",
   "name": "python",
   "nbconvert_exporter": "python",
   "pygments_lexer": "ipython3",
   "version": "3.10.18"
  }
 },
 "nbformat": 4,
 "nbformat_minor": 5
}
